{
 "cells": [
  {
   "cell_type": "code",
   "execution_count": 136,
   "metadata": {},
   "outputs": [],
   "source": [
    "import xgboost as xgb\n",
    "import numpy as np\n",
    "import pandas as pd\n",
    "import tensorflow as tf\n",
    "import matplotlib.pyplot as plt\n",
    "from sklearn.model_selection import train_test_split\n",
    "from sklearn.metrics import accuracy_score\n",
    "from sklearn.metrics import roc_curve\n",
    "from sklearn.metrics import roc_auc_score\n",
    "\n",
    "signal = pd.read_pickle(\"SignalMC.pkl\")\n",
    "bkgnd = pd.read_pickle(\"sidebands.pkl\")"
   ]
  },
  {
   "cell_type": "code",
   "execution_count": 137,
   "metadata": {},
   "outputs": [],
   "source": [
    "signal['signal/bkgnd'] = 1\n",
    "bkgnd['signal/bkgnd'] = 0"
   ]
  },
  {
   "cell_type": "code",
   "execution_count": 138,
   "metadata": {},
   "outputs": [],
   "source": [
    "df = pd.concat([signal,bkgnd], ignore_index=True)"
   ]
  },
  {
   "cell_type": "code",
   "execution_count": 139,
   "metadata": {},
   "outputs": [],
   "source": [
    "#df = df.sample(frac=1).reset_index(drop=True) #rows in random order"
   ]
  },
  {
   "cell_type": "code",
   "execution_count": 140,
   "metadata": {},
   "outputs": [
    {
     "data": {
      "text/html": [
       "<div>\n",
       "<style scoped>\n",
       "    .dataframe tbody tr th:only-of-type {\n",
       "        vertical-align: middle;\n",
       "    }\n",
       "\n",
       "    .dataframe tbody tr th {\n",
       "        vertical-align: top;\n",
       "    }\n",
       "\n",
       "    .dataframe thead th {\n",
       "        text-align: right;\n",
       "    }\n",
       "</style>\n",
       "<table border=\"1\" class=\"dataframe\">\n",
       "  <thead>\n",
       "    <tr style=\"text-align: right;\">\n",
       "      <th></th>\n",
       "      <th>Bpt</th>\n",
       "      <th>kpt</th>\n",
       "      <th>PDL</th>\n",
       "      <th>prob</th>\n",
       "      <th>BMass</th>\n",
       "      <th>DiMuMass</th>\n",
       "      <th>cosA</th>\n",
       "      <th>signLxy</th>\n",
       "      <th>signal/bkgnd</th>\n",
       "    </tr>\n",
       "  </thead>\n",
       "  <tbody>\n",
       "    <tr>\n",
       "      <th>0</th>\n",
       "      <td>26.680304</td>\n",
       "      <td>11.619227</td>\n",
       "      <td>0.021847</td>\n",
       "      <td>0.748338</td>\n",
       "      <td>5.312783</td>\n",
       "      <td>3.538398</td>\n",
       "      <td>0.999972</td>\n",
       "      <td>15.482615</td>\n",
       "      <td>1</td>\n",
       "    </tr>\n",
       "    <tr>\n",
       "      <th>1</th>\n",
       "      <td>10.257165</td>\n",
       "      <td>3.517378</td>\n",
       "      <td>0.018031</td>\n",
       "      <td>0.967825</td>\n",
       "      <td>5.333508</td>\n",
       "      <td>1.616260</td>\n",
       "      <td>0.993626</td>\n",
       "      <td>7.343916</td>\n",
       "      <td>1</td>\n",
       "    </tr>\n",
       "    <tr>\n",
       "      <th>2</th>\n",
       "      <td>17.177292</td>\n",
       "      <td>2.610023</td>\n",
       "      <td>0.075210</td>\n",
       "      <td>0.086362</td>\n",
       "      <td>5.291852</td>\n",
       "      <td>4.585297</td>\n",
       "      <td>0.999993</td>\n",
       "      <td>45.554184</td>\n",
       "      <td>1</td>\n",
       "    </tr>\n",
       "    <tr>\n",
       "      <th>3</th>\n",
       "      <td>20.117249</td>\n",
       "      <td>3.583837</td>\n",
       "      <td>0.038395</td>\n",
       "      <td>0.333149</td>\n",
       "      <td>5.231747</td>\n",
       "      <td>2.684836</td>\n",
       "      <td>0.999318</td>\n",
       "      <td>24.436850</td>\n",
       "      <td>1</td>\n",
       "    </tr>\n",
       "    <tr>\n",
       "      <th>4</th>\n",
       "      <td>45.658031</td>\n",
       "      <td>4.257549</td>\n",
       "      <td>0.007641</td>\n",
       "      <td>0.372221</td>\n",
       "      <td>5.256309</td>\n",
       "      <td>4.134099</td>\n",
       "      <td>0.999891</td>\n",
       "      <td>7.496773</td>\n",
       "      <td>1</td>\n",
       "    </tr>\n",
       "  </tbody>\n",
       "</table>\n",
       "</div>"
      ],
      "text/plain": [
       "         Bpt        kpt       PDL      prob     BMass  DiMuMass      cosA  \\\n",
       "0  26.680304  11.619227  0.021847  0.748338  5.312783  3.538398  0.999972   \n",
       "1  10.257165   3.517378  0.018031  0.967825  5.333508  1.616260  0.993626   \n",
       "2  17.177292   2.610023  0.075210  0.086362  5.291852  4.585297  0.999993   \n",
       "3  20.117249   3.583837  0.038395  0.333149  5.231747  2.684836  0.999318   \n",
       "4  45.658031   4.257549  0.007641  0.372221  5.256309  4.134099  0.999891   \n",
       "\n",
       "     signLxy  signal/bkgnd  \n",
       "0  15.482615             1  \n",
       "1   7.343916             1  \n",
       "2  45.554184             1  \n",
       "3  24.436850             1  \n",
       "4   7.496773             1  "
      ]
     },
     "execution_count": 140,
     "metadata": {},
     "output_type": "execute_result"
    }
   ],
   "source": [
    "df.head(5)"
   ]
  },
  {
   "cell_type": "code",
   "execution_count": 141,
   "metadata": {},
   "outputs": [
    {
     "name": "stdout",
     "output_type": "stream",
     "text": [
      "<class 'pandas.core.frame.DataFrame'>\n",
      "RangeIndex: 14758 entries, 0 to 14757\n",
      "Data columns (total 7 columns):\n",
      " #   Column        Non-Null Count  Dtype  \n",
      "---  ------        --------------  -----  \n",
      " 0   Bpt           14758 non-null  float32\n",
      " 1   kpt           14758 non-null  float32\n",
      " 2   PDL           14758 non-null  float32\n",
      " 3   prob          14758 non-null  float32\n",
      " 4   cosA          14758 non-null  float32\n",
      " 5   signLxy       14758 non-null  float32\n",
      " 6   signal/bkgnd  14758 non-null  int64  \n",
      "dtypes: float32(6), int64(1)\n",
      "memory usage: 461.3 KB\n"
     ]
    }
   ],
   "source": [
    "df = df.drop(['BMass', 'DiMuMass'], axis=1)\n",
    "df.info()"
   ]
  },
  {
   "cell_type": "markdown",
   "metadata": {},
   "source": [
    "**FEATURES AND LABELS**"
   ]
  },
  {
   "cell_type": "code",
   "execution_count": 142,
   "metadata": {},
   "outputs": [],
   "source": [
    "#GENERAL DATA\n",
    "train_x = df.drop(['signal/bkgnd'], axis=1) #features = all minus signal/bkgnd\n",
    "train_y = df['signal/bkgnd'] #label = signal/bkgnd"
   ]
  },
  {
   "cell_type": "code",
   "execution_count": 160,
   "metadata": {},
   "outputs": [],
   "source": [
    "#SIGNAL\n",
    "signal_x = signal.drop(['signal/bkgnd','BMass', 'DiMuMass'], axis=1)\n",
    "signal_y = signal['signal/bkgnd']"
   ]
  },
  {
   "cell_type": "code",
   "execution_count": 144,
   "metadata": {},
   "outputs": [],
   "source": [
    "#BKGND\n",
    "bkgnd_x = bkgnd.drop(['signal/bkgnd','BMass', 'DiMuMass'], axis=1)\n",
    "bkgnd_y = bkgnd['signal/bkgnd']"
   ]
  },
  {
   "cell_type": "code",
   "execution_count": 145,
   "metadata": {},
   "outputs": [],
   "source": [
    "#SAMPLING DATA\n",
    "#GENERAL\n",
    "train_x, test_x, train_y, test_y = train_test_split(train_x, train_y, \n",
    "                                                  test_size=0.2, \n",
    "                                                  random_state=1)\n",
    "\n",
    "#SIGNAL\n",
    "train_signal_x, test_signal_x, train_signal_y, test_signal_y = train_test_split(signal_x, signal_y, \n",
    "                                                  test_size=0.2, \n",
    "                                                  random_state=1)\n",
    "#BKGND\n",
    "train_bkgnd_x, test_bkgnd_x, train_bkgnd_y, test_bkgnd_y = train_test_split(bkgnd_x, bkgnd_y, \n",
    "                                                  test_size=0.2, \n",
    "                                                  random_state=1)"
   ]
  },
  {
   "cell_type": "markdown",
   "metadata": {},
   "source": [
    "**XGBClassifier**"
   ]
  },
  {
   "cell_type": "code",
   "execution_count": 146,
   "metadata": {},
   "outputs": [
    {
     "data": {
      "text/plain": [
       "XGBClassifier(base_score=0.5, booster='gbtree', colsample_bylevel=1,\n",
       "              colsample_bynode=1, colsample_bytree=1, gamma=0, gpu_id=-1,\n",
       "              importance_type='gain', interaction_constraints='',\n",
       "              learning_rate=0.3, max_delta_step=0, max_depth=3,\n",
       "              min_child_weight=1, missing=nan, monotone_constraints='()',\n",
       "              n_estimators=100, n_jobs=0, num_parallel_tree=1,\n",
       "              objective='binary:logistic', random_state=0, reg_alpha=0,\n",
       "              reg_lambda=1, scale_pos_weight=1, subsample=1,\n",
       "              tree_method='exact', validate_parameters=1, verbosity=None)"
      ]
     },
     "execution_count": 146,
     "metadata": {},
     "output_type": "execute_result"
    }
   ],
   "source": [
    "#XGBClassifier scikit-learn API \n",
    "model = xgb.XGBClassifier(objective = 'binary:logistic', max_depth = 3, learning_rate=0.3)\n",
    "#fit = training\n",
    "model.fit(train_x, train_y)"
   ]
  },
  {
   "cell_type": "code",
   "execution_count": 147,
   "metadata": {},
   "outputs": [
    {
     "name": "stdout",
     "output_type": "stream",
     "text": [
      "94.64 %\n"
     ]
    }
   ],
   "source": [
    "predict_signal = model.predict(test_signal_x)\n",
    "print(np.round(accuracy_score(test_signal_y,predict_signal)*100, 2),'%')"
   ]
  },
  {
   "cell_type": "code",
   "execution_count": 148,
   "metadata": {},
   "outputs": [
    {
     "name": "stdout",
     "output_type": "stream",
     "text": [
      "95.97 %\n"
     ]
    }
   ],
   "source": [
    "predict2 = model.predict(test_x)\n",
    "print(np.round(accuracy_score(test_y,predict2)*100, 2),'%')"
   ]
  },
  {
   "cell_type": "code",
   "execution_count": 149,
   "metadata": {},
   "outputs": [
    {
     "name": "stdout",
     "output_type": "stream",
     "text": [
      "97.54 %\n"
     ]
    }
   ],
   "source": [
    "predict3 = model.predict(train_x)\n",
    "print(np.round(accuracy_score(train_y,predict3)*100, 2),'%')"
   ]
  },
  {
   "cell_type": "code",
   "execution_count": 150,
   "metadata": {},
   "outputs": [],
   "source": [
    "predict_prob = model.predict_proba(test_signal_x)\n",
    "#converting prob values to list\n",
    "df_prob = pd.DataFrame(predict_prob)\n",
    "s_prob_signal = df_prob[df_prob.columns[1]] \n",
    "list_prob_signal = s_prob_signal.values.tolist()"
   ]
  },
  {
   "cell_type": "code",
   "execution_count": 151,
   "metadata": {},
   "outputs": [
    {
     "data": {
      "image/png": "[encoded data removed]",
      "text/plain": [
       "<Figure size 432x288 with 1 Axes>"
      ]
     },
     "metadata": {
      "needs_background": "light"
     },
     "output_type": "display_data"
    }
   ],
   "source": [
    "hist_signal = plt.hist(list_prob_signal, range=(0,1))"
   ]
  },
  {
   "cell_type": "code",
   "execution_count": 152,
   "metadata": {},
   "outputs": [],
   "source": [
    "predict_prob_bkgnd = model.predict_proba(test_bkgnd_x)\n",
    "df_prob_bkgnd = pd.DataFrame(predict_prob_bkgnd)\n",
    "s_prob_bkgnd = df_prob_bkgnd[df_prob_bkgnd.columns[1]] \n",
    "list_prob_bkgnd = s_prob_bkgnd.values.tolist()"
   ]
  },
  {
   "cell_type": "code",
   "execution_count": 153,
   "metadata": {},
   "outputs": [
    {
     "data": {
      "image/png": "[encoded data removed]",
      "text/plain": [
       "<Figure size 432x288 with 1 Axes>"
      ]
     },
     "metadata": {
      "needs_background": "light"
     },
     "output_type": "display_data"
    }
   ],
   "source": [
    "hist_bkgnd = plt.hist(list_prob_bkgnd, range=(0,1))"
   ]
  },
  {
   "cell_type": "code",
   "execution_count": 154,
   "metadata": {},
   "outputs": [
    {
     "data": {
      "text/plain": [
       "Text(0.5, 1.0, 'Signal vs Bkgnd (XGB)')"
      ]
     },
     "execution_count": 154,
     "metadata": {},
     "output_type": "execute_result"
    },
    {
     "data": {
      "image/png": "[encoded data removed]",
      "text/plain": [
       "<Figure size 432x288 with 1 Axes>"
      ]
     },
     "metadata": {
      "needs_background": "light"
     },
     "output_type": "display_data"
    }
   ],
   "source": [
    "plt.hist(list_prob_signal, range=(0,1), alpha=0.8,label='Signal')\n",
    "plt.hist(list_prob_bkgnd, range=(0,1), alpha=0.7, label='Bkgnd')\n",
    "plt.legend(loc='upper right')\n",
    "plt.xlabel('Signal (Probabilities)')\n",
    "plt.ylabel('Events')\n",
    "plt.title('Signal vs Bkgnd (XGB)')"
   ]
  },
  {
   "cell_type": "code",
   "execution_count": 155,
   "metadata": {},
   "outputs": [
    {
     "data": {
      "image/png": "[encoded data removed]",
      "text/plain": [
       "<Figure size 432x288 with 1 Axes>"
      ]
     },
     "metadata": {
      "needs_background": "light"
     },
     "output_type": "display_data"
    }
   ],
   "source": [
    "#CREEMOS DATOS ALEADORIOS Y ORDENEMOLOS DE MENOR A MAYOR\n",
    "\n",
    "list_prob_signal = sorted(list_prob_signal)\n",
    "list_prob_bkgnd = sorted(list_prob_bkgnd)\n",
    "\n",
    "#LISTAS DONDE SE GUARDARAN LOS VALORES DE EFICIENCIA Y BACK_REJECTION\n",
    "efficiency = []\n",
    "background_rejection = []\n",
    "\n",
    "#ITERAMOS SOBRE UN FLOAT QUE VA DE 0 A 100 EN 1000 PASOS\n",
    "for cut in np.linspace(0,1, 50):\n",
    "    \n",
    "    #INICIALIZAMOS EL VALOR DE VIVOS ACEPTADOS Y MUERTOS RECHAZADOS\n",
    "    #PUES EN EL CORTE = 0 ACEPTAMOS TODOS LOS 1s Y RECHAZAMOS TODOS LOS 0s\n",
    "    accepted_signal = len(list_prob_signal)\n",
    "    rejected_background = 0\n",
    "\n",
    "\n",
    "    for i, v in enumerate(list_prob_signal):\n",
    "        # YA QUE LAS LISTAS ESTAN ORDENADAS BASTA CON CHECAR EL PRIMER VALOR QUE \n",
    "        # SEA MAYOR QUE EL CORTE\n",
    "        if cut<=v:\n",
    "            accepted_signal-=i\n",
    "            break\n",
    "        #EN EL CASO DE QUE EL CORTE SEA MAYOR QUE TODAS LAS PROBS CONSIDERA QUE \n",
    "        # NINGUN VIVO FUE ACEPTADO\n",
    "        if i==len(list_prob_signal)-1:\n",
    "            accepted_signal=0\n",
    "\n",
    "    # ANALOGAMENTE PARA LOS MUERTOS        \n",
    "    for i, m in enumerate(list_prob_bkgnd):\n",
    "        if cut<=m:\n",
    "            rejected_background+=i\n",
    "            break\n",
    "        if i==len(list_prob_bkgnd)-1:\n",
    "            rejected_background=len(list_prob_bkgnd)\n",
    "    \n",
    "    #ALMACENA EN LA LISTA\n",
    "    efficiency.append(accepted_signal/len(list_prob_signal))\n",
    "    background_rejection.append(rejected_background/len(list_prob_bkgnd))\n",
    "\n",
    "    xgbst = plt.plot(efficiency, background_rejection)\n",
    "    plt.xlabel('Signal efficiency')\n",
    "    plt.ylabel('Background rejection')\n",
    "    plt.title('XGB ROC curve')"
   ]
  },
  {
   "cell_type": "code",
   "execution_count": 168,
   "metadata": {},
   "outputs": [],
   "source": [
    "probtrainS = model.predict_proba(train_signal_x)\n",
    "#converting prob values to list\n",
    "df_probtrainS = pd.DataFrame(probtrainS)\n",
    "s_probtrainS = df_probtrainS[df_probtrainS.columns[1]] \n",
    "list_probtrainS = s_probtrainS.values.tolist()"
   ]
  },
  {
   "cell_type": "code",
   "execution_count": 169,
   "metadata": {},
   "outputs": [],
   "source": [
    "probtrainB = model.predict_proba(train_bkgnd_x)\n",
    "df_probtrainB = pd.DataFrame(probtrainB)\n",
    "s_probtrainB = df_probtrainB[df_probtrainB.columns[1]] \n",
    "list_probtrainB = s_probtrainB.values.tolist()"
   ]
  },
  {
   "cell_type": "code",
   "execution_count": 170,
   "metadata": {},
   "outputs": [
    {
     "data": {
      "image/png": "[encoded data removed]",
      "text/plain": [
       "<Figure size 432x288 with 1 Axes>"
      ]
     },
     "metadata": {
      "needs_background": "light"
     },
     "output_type": "display_data"
    }
   ],
   "source": [
    "#CREEMOS DATOS ALEADORIOS Y ORDENEMOLOS DE MENOR A MAYOR\n",
    "\n",
    "list_probtrainS = sorted(list_probtrainS)\n",
    "list_probtrainB = sorted(list_probtrainB)\n",
    "\n",
    "#LISTAS DONDE SE GUARDARAN LOS VALORES DE EFICIENCIA Y BACK_REJECTION\n",
    "efficiency2 = []\n",
    "background_rejection2 = []\n",
    "\n",
    "#ITERAMOS SOBRE UN FLOAT QUE VA DE 0 A 100 EN 1000 PASOS\n",
    "for cut in np.linspace(0,1, 50):\n",
    "    \n",
    "    #INICIALIZAMOS EL VALOR DE VIVOS ACEPTADOS Y MUERTOS RECHAZADOS\n",
    "    #PUES EN EL CORTE = 0 ACEPTAMOS TODOS LOS 1s Y RECHAZAMOS TODOS LOS 0s\n",
    "    accepted_signal = len(list_probtrainS)\n",
    "    rejected_background = 0\n",
    "\n",
    "\n",
    "    for i, v in enumerate(list_probtrainS):\n",
    "        # YA QUE LAS LISTAS ESTAN ORDENADAS BASTA CON CHECAR EL PRIMER VALOR QUE \n",
    "        # SEA MAYOR QUE EL CORTE\n",
    "        if cut<=v:\n",
    "            accepted_signal-=i\n",
    "            break\n",
    "        #EN EL CASO DE QUE EL CORTE SEA MAYOR QUE TODAS LAS PROBS CONSIDERA QUE \n",
    "        # NINGUN VIVO FUE ACEPTADO\n",
    "        if i==len(list_probtrainS)-1:\n",
    "            accepted_signal=0\n",
    "\n",
    "    # ANALOGAMENTE PARA LOS MUERTOS        \n",
    "    for i, m in enumerate(list_probtrainB):\n",
    "        if cut<=m:\n",
    "            rejected_background+=i\n",
    "            break\n",
    "        if i==len(list_prob_bkgnd)-1:\n",
    "            rejected_background=len(list_probtrainB)\n",
    "    \n",
    "    #ALMACENA EN LA LISTA\n",
    "    efficiency2.append(accepted_signal/len(list_probtrainS))\n",
    "    background_rejection2.append(rejected_background/len(list_probtrainB))\n",
    "\n",
    "    xgbst2 = plt.plot(efficiency2, background_rejection2)\n",
    "    plt.xlabel('Signal efficiency')\n",
    "    plt.ylabel('Background rejection')\n",
    "    plt.title('XGB ROC curve')"
   ]
  },
  {
   "cell_type": "code",
   "execution_count": 172,
   "metadata": {},
   "outputs": [
    {
     "data": {
      "image/png": "[encoded data removed]",
      "text/plain": [
       "<Figure size 432x288 with 1 Axes>"
      ]
     },
     "metadata": {
      "needs_background": "light"
     },
     "output_type": "display_data"
    }
   ],
   "source": [
    "xgbst = plt.plot(efficiency, background_rejection, label='test')\n",
    "xgbst2 = plt.plot(efficiency2, background_rejection2, label='train')\n",
    "plt.xlabel('Signal efficiency')\n",
    "plt.ylabel('Background rejection')\n",
    "plt.title('XGB ROC curve')\n",
    "plt.legend(loc='lower left')\n",
    "plt.show()"
   ]
  },
  {
   "cell_type": "code",
   "execution_count": 156,
   "metadata": {},
   "outputs": [
    {
     "name": "stdout",
     "output_type": "stream",
     "text": [
      "ROC AUC=  0.990232842797793\n"
     ]
    },
    {
     "data": {
      "image/png": "[encoded data removed]",
      "text/plain": [
       "<Figure size 432x288 with 1 Axes>"
      ]
     },
     "metadata": {
      "needs_background": "light"
     },
     "output_type": "display_data"
    }
   ],
   "source": [
    "model_predict1 = model.predict_proba(test_x)\n",
    "model_predict1 = model_predict1[:,1]\n",
    "auc_score1 = roc_auc_score(test_y, model_predict1)\n",
    "fpr1, tpr1, _ = roc_curve(test_y, model_predict1)\n",
    "testp = plt.plot(tpr1, 1-fpr1, label='test')\n",
    "print('ROC AUC= ', auc_score1)\n",
    "plt.show()"
   ]
  },
  {
   "cell_type": "code",
   "execution_count": 157,
   "metadata": {},
   "outputs": [
    {
     "name": "stdout",
     "output_type": "stream",
     "text": [
      "ROC AUC=  0.9962129778084459\n"
     ]
    },
    {
     "data": {
      "image/png": "[encoded data removed]",
      "text/plain": [
       "<Figure size 432x288 with 1 Axes>"
      ]
     },
     "metadata": {
      "needs_background": "light"
     },
     "output_type": "display_data"
    }
   ],
   "source": [
    "model_predict2 = model.predict_proba(train_x)\n",
    "model_predict2 = model_predict2[:,1]\n",
    "auc_score = roc_auc_score(train_y, model_predict2)\n",
    "fpr2, tpr2, _ = roc_curve(train_y, model_predict2)\n",
    "trainp = plt.plot(tpr2, 1-fpr2, label='train')\n",
    "print('ROC AUC= ', auc_score)\n",
    "plt.show()"
   ]
  },
  {
   "cell_type": "code",
   "execution_count": 167,
   "metadata": {},
   "outputs": [
    {
     "data": {
      "image/png": "[encoded data removed]",
      "text/plain": [
       "<Figure size 432x288 with 1 Axes>"
      ]
     },
     "metadata": {
      "needs_background": "light"
     },
     "output_type": "display_data"
    }
   ],
   "source": [
    "plt.plot(tpr1, 1-fpr1, label='Test')\n",
    "plt.plot(tpr2, 1-fpr2, label='Train')\n",
    "plt.legend(loc='lower left')\n",
    "plt.xlabel('signal efficiency')\n",
    "plt.ylabel('background rejection')\n",
    "plt.show()"
   ]
  },
  {
   "cell_type": "code",
   "execution_count": null,
   "metadata": {},
   "outputs": [],
   "source": []
  }
 ],
 "metadata": {
  "kernelspec": {
   "display_name": "xgb",
   "language": "python",
   "name": "xgb"
  },
  "language_info": {
   "codemirror_mode": {
    "name": "ipython",
    "version": 3
   },
   "file_extension": ".py",
   "mimetype": "text/x-python",
   "name": "python",
   "nbconvert_exporter": "python",
   "pygments_lexer": "ipython3",
   "version": "3.8.2"
  }
 },
 "nbformat": 4,
 "nbformat_minor": 4
}
