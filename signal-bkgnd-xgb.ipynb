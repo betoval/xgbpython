{
 "cells": [
  {
   "cell_type": "code",
   "execution_count": 64,
   "metadata": {},
   "outputs": [],
   "source": [
    "import xgboost as xgb\n",
    "import numpy as np\n",
    "import pandas as pd\n",
    "import tensorflow as tf\n",
    "import matplotlib.pyplot as plt\n",
    "from sklearn.model_selection import train_test_split\n",
    "from sklearn.metrics import accuracy_score\n",
    "from sklearn.metrics import roc_curve\n",
    "from sklearn.metrics import roc_auc_score\n",
    "\n",
    "signal = pd.read_csv(\"signal.csv\")\n",
    "bkgnd = pd.read_csv(\"background.csv\")"
   ]
  },
  {
   "cell_type": "code",
   "execution_count": 65,
   "metadata": {},
   "outputs": [],
   "source": [
    "signal['signal/bkgnd'] = 1\n",
    "bkgnd['signal/bkgnd'] = 0"
   ]
  },
  {
   "cell_type": "code",
   "execution_count": 66,
   "metadata": {},
   "outputs": [],
   "source": [
    "df = pd.concat([signal,bkgnd])"
   ]
  },
  {
   "cell_type": "code",
   "execution_count": 67,
   "metadata": {},
   "outputs": [],
   "source": [
    "#df = df.sample(frac=1).reset_index(drop=True) #rows in random order"
   ]
  },
  {
   "cell_type": "code",
   "execution_count": 68,
   "metadata": {},
   "outputs": [
    {
     "name": "stdout",
     "output_type": "stream",
     "text": [
      "<class 'pandas.core.frame.DataFrame'>\n",
      "RangeIndex: 100331 entries, 0 to 100330\n",
      "Data columns (total 27 columns):\n",
      " #   Column              Non-Null Count   Dtype  \n",
      "---  ------              --------------   -----  \n",
      " 0   Z_pt                100331 non-null  float64\n",
      " 1   dilepton_pt         100331 non-null  float64\n",
      " 2   dilepton_m          100331 non-null  float64\n",
      " 3   leading_lepton_pt   100331 non-null  float64\n",
      " 4   trailing_lepton_pt  100331 non-null  float64\n",
      " 5   leading_muon_pt     100331 non-null  float64\n",
      " 6   trailing_muon_pt    100331 non-null  float64\n",
      " 7   dimuon_pt           100331 non-null  float64\n",
      " 8   dxym1               100331 non-null  float64\n",
      " 9   dxym2               100331 non-null  float64\n",
      " 10  dxyl1               100331 non-null  float64\n",
      " 11  dxyl2               100331 non-null  float64\n",
      " 12  dzm1                100331 non-null  float64\n",
      " 13  dzm2                100331 non-null  float64\n",
      " 14  dzl1                100331 non-null  float64\n",
      " 15  dzl2                100331 non-null  float64\n",
      " 16  rIsoOverPtl1        100331 non-null  float64\n",
      " 17  rIsoOverPtl2        100331 non-null  float64\n",
      " 18  rIsoOverPtm1        100331 non-null  float64\n",
      " 19  rIsoOverPtm2        100331 non-null  float64\n",
      " 20  ipSm1               100331 non-null  float64\n",
      " 21  ipSm2               100331 non-null  float64\n",
      " 22  ipSl1               100331 non-null  float64\n",
      " 23  ipSl2               100331 non-null  float64\n",
      " 24  ZvtxP               100331 non-null  float64\n",
      " 25  psiVtxP             100331 non-null  float64\n",
      " 26  signal/bkgnd        100331 non-null  int64  \n",
      "dtypes: float64(26), int64(1)\n",
      "memory usage: 20.7 MB\n"
     ]
    }
   ],
   "source": [
    "bkgnd.info()"
   ]
  },
  {
   "cell_type": "markdown",
   "metadata": {},
   "source": [
    "**FEATURES AND LABELS**"
   ]
  },
  {
   "cell_type": "code",
   "execution_count": 69,
   "metadata": {},
   "outputs": [],
   "source": [
    "#GENERAL DATA\n",
    "train_x = df.drop(['signal/bkgnd'], axis=1) #features = all minus signal/bkgnd\n",
    "train_y = df['signal/bkgnd'] #label = signal/bkgnd"
   ]
  },
  {
   "cell_type": "code",
   "execution_count": 70,
   "metadata": {},
   "outputs": [],
   "source": [
    "#SIGNAL\n",
    "signal_x = signal.drop(['signal/bkgnd'], axis=1)\n",
    "signal_y = signal['signal/bkgnd']"
   ]
  },
  {
   "cell_type": "code",
   "execution_count": 71,
   "metadata": {},
   "outputs": [],
   "source": [
    "#BKGND\n",
    "bkgnd_x = bkgnd.drop(['signal/bkgnd'], axis=1)\n",
    "bkgnd_y = bkgnd['signal/bkgnd']"
   ]
  },
  {
   "cell_type": "code",
   "execution_count": 72,
   "metadata": {},
   "outputs": [],
   "source": [
    "#SAMPLING DATA\n",
    "#GENERAL\n",
    "train_x, test_x, train_y, test_y = train_test_split(train_x, train_y, \n",
    "                                                  test_size=0.2, \n",
    "                                                  random_state=1)\n",
    "\n",
    "#SIGNAL\n",
    "train_signal_x, test_signal_x, train_signal_y, test_signal_y = train_test_split(signal_x, signal_y, \n",
    "                                                  test_size=0.2, \n",
    "                                                  random_state=1)\n",
    "#BKGND\n",
    "train_bkgnd_x, test_bkgnd_x, train_bkgnd_y, test_bkgnd_y = train_test_split(bkgnd_x, bkgnd_y, \n",
    "                                                  test_size=0.2, \n",
    "                                                  random_state=1)"
   ]
  },
  {
   "cell_type": "markdown",
   "metadata": {},
   "source": [
    "**XGBClassifier**"
   ]
  },
  {
   "cell_type": "code",
   "execution_count": 103,
   "metadata": {},
   "outputs": [
    {
     "data": {
      "text/plain": [
       "XGBClassifier(base_score=0.5, booster='gbtree', colsample_bylevel=1,\n",
       "              colsample_bynode=1, colsample_bytree=1, gamma=0, gpu_id=-1,\n",
       "              importance_type='gain', interaction_constraints='',\n",
       "              learning_rate=0.3, max_delta_step=0, max_depth=1,\n",
       "              min_child_weight=1, missing=nan, monotone_constraints='()',\n",
       "              n_estimators=100, n_jobs=0, num_parallel_tree=1,\n",
       "              objective='binary:logistic', random_state=0, reg_alpha=0,\n",
       "              reg_lambda=1, scale_pos_weight=1, subsample=1,\n",
       "              tree_method='exact', validate_parameters=1, verbosity=None)"
      ]
     },
     "execution_count": 103,
     "metadata": {},
     "output_type": "execute_result"
    }
   ],
   "source": [
    "#XGBClassifier scikit-learn API \n",
    "model = xgb.XGBClassifier(objective = 'binary:logistic', max_depth = 1, learning_rate=0.3)\n",
    "#fit = training\n",
    "model.fit(train_x, train_y)"
   ]
  },
  {
   "cell_type": "code",
   "execution_count": 104,
   "metadata": {},
   "outputs": [
    {
     "name": "stdout",
     "output_type": "stream",
     "text": [
      "97.16 %\n"
     ]
    }
   ],
   "source": [
    "predict_signal = model.predict(test_signal_x)\n",
    "print(np.round(accuracy_score(test_signal_y,predict_signal)*100, 2),'%')"
   ]
  },
  {
   "cell_type": "code",
   "execution_count": 105,
   "metadata": {},
   "outputs": [
    {
     "name": "stdout",
     "output_type": "stream",
     "text": [
      "99.35 %\n"
     ]
    }
   ],
   "source": [
    "predict2 = model.predict(test_x)\n",
    "print(np.round(accuracy_score(test_y,predict2)*100, 2),'%')"
   ]
  },
  {
   "cell_type": "code",
   "execution_count": 106,
   "metadata": {},
   "outputs": [],
   "source": [
    "predict_prob = model.predict_proba(test_signal_x)\n",
    "#converting prob values to list\n",
    "df_prob = pd.DataFrame(predict_prob)\n",
    "s_prob_signal = df_prob[df_prob.columns[1]] \n",
    "list_prob_signal = s_prob_signal.values.tolist()"
   ]
  },
  {
   "cell_type": "code",
   "execution_count": 107,
   "metadata": {},
   "outputs": [
    {
     "data": {
      "image/png": "[encoded data removed]",
      "text/plain": [
       "<Figure size 432x288 with 1 Axes>"
      ]
     },
     "metadata": {
      "needs_background": "light"
     },
     "output_type": "display_data"
    }
   ],
   "source": [
    "hist_signal = plt.hist(list_prob_signal, range=(0,1))"
   ]
  },
  {
   "cell_type": "code",
   "execution_count": 108,
   "metadata": {},
   "outputs": [],
   "source": [
    "predict_prob_bkgnd = model.predict_proba(test_bkgnd_x)\n",
    "df_prob_bkgnd = pd.DataFrame(predict_prob_bkgnd)\n",
    "s_prob_bkgnd = df_prob_bkgnd[df_prob_bkgnd.columns[1]] \n",
    "list_prob_bkgnd = s_prob_bkgnd.values.tolist()"
   ]
  },
  {
   "cell_type": "code",
   "execution_count": 109,
   "metadata": {},
   "outputs": [
    {
     "data": {
      "image/png": "[encoded data removed]",
      "text/plain": [
       "<Figure size 432x288 with 1 Axes>"
      ]
     },
     "metadata": {
      "needs_background": "light"
     },
     "output_type": "display_data"
    }
   ],
   "source": [
    "hist_bkgnd = plt.hist(list_prob_bkgnd, range=(0,1))"
   ]
  },
  {
   "cell_type": "code",
   "execution_count": 110,
   "metadata": {},
   "outputs": [
    {
     "data": {
      "text/plain": [
       "Text(0.5, 1.0, 'Signal vs Bkgnd (XGB)')"
      ]
     },
     "execution_count": 110,
     "metadata": {},
     "output_type": "execute_result"
    },
    {
     "data": {
      "image/png": "[encoded data removed]",
      "text/plain": [
       "<Figure size 432x288 with 1 Axes>"
      ]
     },
     "metadata": {
      "needs_background": "light"
     },
     "output_type": "display_data"
    }
   ],
   "source": [
    "plt.hist(list_prob_signal, range=(0,1), alpha=0.8,label='Signal')\n",
    "plt.hist(list_prob_bkgnd, range=(0,1), alpha=0.7, label='Bkgnd')\n",
    "plt.legend(loc='upper right')\n",
    "plt.xlabel('Signal (Probabilities)')\n",
    "plt.ylabel('Events')\n",
    "plt.title('Signal vs Bkgnd (XGB)')"
   ]
  },
  {
   "cell_type": "code",
   "execution_count": 111,
   "metadata": {},
   "outputs": [
    {
     "data": {
      "image/png": "[encoded data removed]",
      "text/plain": [
       "<Figure size 432x288 with 1 Axes>"
      ]
     },
     "metadata": {
      "needs_background": "light"
     },
     "output_type": "display_data"
    }
   ],
   "source": [
    "#CREEMOS DATOS ALEADORIOS Y ORDENEMOLOS DE MENOR A MAYOR\n",
    "\n",
    "list_prob_signal = sorted(list_prob_signal)\n",
    "list_prob_bkgnd = sorted(list_prob_bkgnd)\n",
    "\n",
    "#LISTAS DONDE SE GUARDARAN LOS VALORES DE EFICIENCIA Y BACK_REJECTION\n",
    "efficiency = []\n",
    "background_rejection = []\n",
    "\n",
    "#ITERAMOS SOBRE UN FLOAT QUE VA DE 0 A 100 EN 1000 PASOS\n",
    "for cut in np.linspace(0,1, 50):\n",
    "    \n",
    "    #INICIALIZAMOS EL VALOR DE VIVOS ACEPTADOS Y MUERTOS RECHAZADOS\n",
    "    #PUES EN EL CORTE = 0 ACEPTAMOS TODOS LOS 1s Y RECHAZAMOS TODOS LOS 0s\n",
    "    accepted_signal = len(list_prob_signal)\n",
    "    rejected_background = 0\n",
    "\n",
    "\n",
    "    for i, v in enumerate(list_prob_signal):\n",
    "        # YA QUE LAS LISTAS ESTAN ORDENADAS BASTA CON CHECAR EL PRIMER VALOR QUE \n",
    "        # SEA MAYOR QUE EL CORTE\n",
    "        if cut<=v:\n",
    "            accepted_signal-=i\n",
    "            break\n",
    "        #EN EL CASO DE QUE EL CORTE SEA MAYOR QUE TODAS LAS PROBS CONSIDERA QUE \n",
    "        # NINGUN VIVO FUE ACEPTADO\n",
    "        if i==len(list_prob_signal)-1:\n",
    "            accepted_signal=0\n",
    "\n",
    "    # ANALOGAMENTE PARA LOS MUERTOS        \n",
    "    for i, m in enumerate(list_prob_bkgnd):\n",
    "        if cut<=m:\n",
    "            rejected_background+=i\n",
    "            break\n",
    "        if i==len(list_prob_bkgnd)-1:\n",
    "            rejected_background=len(list_prob_bkgnd)\n",
    "    \n",
    "    #ALMACENA EN LA LISTA\n",
    "    efficiency.append(accepted_signal/len(list_prob_signal))\n",
    "    background_rejection.append(rejected_background/len(list_prob_bkgnd))\n",
    "\n",
    "    xgbst = plt.plot(efficiency, background_rejection, color='green')\n",
    "    plt.xlabel('Signal efficiency')\n",
    "    plt.ylabel('Background rejection')\n",
    "    plt.title('XGB ROC curve')"
   ]
  },
  {
   "cell_type": "code",
   "execution_count": 95,
   "metadata": {},
   "outputs": [
    {
     "name": "stdout",
     "output_type": "stream",
     "text": [
      "ROC AUC=  0.9993406695199442\n"
     ]
    },
    {
     "data": {
      "image/png": "[encoded data removed]",
      "text/plain": [
       "<Figure size 432x288 with 1 Axes>"
      ]
     },
     "metadata": {
      "needs_background": "light"
     },
     "output_type": "display_data"
    }
   ],
   "source": [
    "model_predict = model.predict_proba(test_x)\n",
    "model_predict = model_predict[:,1]\n",
    "auc_score = roc_auc_score(test_y, model_predict)\n",
    "fpr, tpr, _ = roc_curve(test_y, model_predict)\n",
    "plt.plot(tpr, 1-fpr)\n",
    "print('ROC AUC= ', auc_score)\n",
    "plt.show()"
   ]
  },
  {
   "cell_type": "code",
   "execution_count": null,
   "metadata": {},
   "outputs": [],
   "source": []
  }
 ],
 "metadata": {
  "kernelspec": {
   "display_name": "xgb",
   "language": "python",
   "name": "xgb"
  },
  "language_info": {
   "codemirror_mode": {
    "name": "ipython",
    "version": 3
   },
   "file_extension": ".py",
   "mimetype": "text/x-python",
   "name": "python",
   "nbconvert_exporter": "python",
   "pygments_lexer": "ipython3",
   "version": "3.8.2"
  }
 },
 "nbformat": 4,
 "nbformat_minor": 4
}
