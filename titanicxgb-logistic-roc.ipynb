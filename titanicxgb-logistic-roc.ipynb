{
 "cells": [
  {
   "cell_type": "code",
   "execution_count": 4,
   "metadata": {},
   "outputs": [],
   "source": [
    "import xgboost as xgb\n",
    "import numpy as np\n",
    "import pandas as pd\n",
    "import tensorflow as tf\n",
    "import matplotlib.pyplot as plt\n",
    "from sklearn.model_selection import train_test_split\n",
    "from sklearn.metrics import accuracy_score\n",
    "from sklearn.preprocessing import LabelEncoder\n",
    "\n",
    "train = pd.read_csv(\"train.csv\")\n",
    "test = pd.read_csv(\"test.csv\")"
   ]
  },
  {
   "cell_type": "code",
   "execution_count": 5,
   "metadata": {},
   "outputs": [
    {
     "name": "stdout",
     "output_type": "stream",
     "text": [
      "<class 'pandas.core.frame.DataFrame'>\n",
      "RangeIndex: 891 entries, 0 to 890\n",
      "Data columns (total 12 columns):\n",
      " #   Column       Non-Null Count  Dtype  \n",
      "---  ------       --------------  -----  \n",
      " 0   PassengerId  891 non-null    int64  \n",
      " 1   Survived     891 non-null    int64  \n",
      " 2   Pclass       891 non-null    int64  \n",
      " 3   Name         891 non-null    object \n",
      " 4   Sex          891 non-null    object \n",
      " 5   Age          714 non-null    float64\n",
      " 6   SibSp        891 non-null    int64  \n",
      " 7   Parch        891 non-null    int64  \n",
      " 8   Ticket       891 non-null    object \n",
      " 9   Fare         891 non-null    float64\n",
      " 10  Cabin        204 non-null    object \n",
      " 11  Embarked     889 non-null    object \n",
      "dtypes: float64(2), int64(5), object(5)\n",
      "memory usage: 83.7+ KB\n"
     ]
    }
   ],
   "source": [
    "train.info()"
   ]
  },
  {
   "cell_type": "code",
   "execution_count": 6,
   "metadata": {},
   "outputs": [
    {
     "name": "stdout",
     "output_type": "stream",
     "text": [
      "<class 'pandas.core.frame.DataFrame'>\n",
      "RangeIndex: 891 entries, 0 to 890\n",
      "Data columns (total 12 columns):\n",
      " #   Column       Non-Null Count  Dtype  \n",
      "---  ------       --------------  -----  \n",
      " 0   PassengerId  891 non-null    int64  \n",
      " 1   Survived     891 non-null    int64  \n",
      " 2   Pclass       891 non-null    int64  \n",
      " 3   Name         891 non-null    object \n",
      " 4   Sex          891 non-null    object \n",
      " 5   Age          891 non-null    float64\n",
      " 6   SibSp        891 non-null    int64  \n",
      " 7   Parch        891 non-null    int64  \n",
      " 8   Ticket       891 non-null    object \n",
      " 9   Fare         891 non-null    float64\n",
      " 10  Cabin        204 non-null    object \n",
      " 11  Embarked     891 non-null    object \n",
      "dtypes: float64(2), int64(5), object(5)\n",
      "memory usage: 83.7+ KB\n"
     ]
    }
   ],
   "source": [
    "#filling missing values\n",
    "train[\"Age\"] = train[\"Age\"].fillna(30)\n",
    "train[\"Embarked\"].fillna(\"S\", inplace=True)\n",
    "train.info()"
   ]
  },
  {
   "cell_type": "code",
   "execution_count": 7,
   "metadata": {},
   "outputs": [],
   "source": [
    "#transform non-numerical labels to numerical labels\n",
    "encoder = LabelEncoder()\n",
    "for col in ('Sex','Embarked'):\n",
    "    train['Sex'] = encoder.fit_transform(train['Sex'])\n",
    "    train['Embarked'] = encoder.fit_transform(train['Embarked'])"
   ]
  },
  {
   "cell_type": "code",
   "execution_count": 31,
   "metadata": {},
   "outputs": [
    {
     "data": {
      "text/html": [
       "<div>\n",
       "<style scoped>\n",
       "    .dataframe tbody tr th:only-of-type {\n",
       "        vertical-align: middle;\n",
       "    }\n",
       "\n",
       "    .dataframe tbody tr th {\n",
       "        vertical-align: top;\n",
       "    }\n",
       "\n",
       "    .dataframe thead th {\n",
       "        text-align: right;\n",
       "    }\n",
       "</style>\n",
       "<table border=\"1\" class=\"dataframe\">\n",
       "  <thead>\n",
       "    <tr style=\"text-align: right;\">\n",
       "      <th></th>\n",
       "      <th>PassengerId</th>\n",
       "      <th>Survived</th>\n",
       "      <th>Pclass</th>\n",
       "      <th>Name</th>\n",
       "      <th>Sex</th>\n",
       "      <th>Age</th>\n",
       "      <th>SibSp</th>\n",
       "      <th>Parch</th>\n",
       "      <th>Ticket</th>\n",
       "      <th>Fare</th>\n",
       "      <th>Cabin</th>\n",
       "      <th>Embarked</th>\n",
       "    </tr>\n",
       "  </thead>\n",
       "  <tbody>\n",
       "    <tr>\n",
       "      <th>0</th>\n",
       "      <td>1</td>\n",
       "      <td>0</td>\n",
       "      <td>3</td>\n",
       "      <td>Braund, Mr. Owen Harris</td>\n",
       "      <td>1</td>\n",
       "      <td>22.0</td>\n",
       "      <td>1</td>\n",
       "      <td>0</td>\n",
       "      <td>A/5 21171</td>\n",
       "      <td>7.2500</td>\n",
       "      <td>NaN</td>\n",
       "      <td>2</td>\n",
       "    </tr>\n",
       "    <tr>\n",
       "      <th>1</th>\n",
       "      <td>2</td>\n",
       "      <td>1</td>\n",
       "      <td>1</td>\n",
       "      <td>Cumings, Mrs. John Bradley (Florence Briggs Th...</td>\n",
       "      <td>0</td>\n",
       "      <td>38.0</td>\n",
       "      <td>1</td>\n",
       "      <td>0</td>\n",
       "      <td>PC 17599</td>\n",
       "      <td>71.2833</td>\n",
       "      <td>C85</td>\n",
       "      <td>0</td>\n",
       "    </tr>\n",
       "    <tr>\n",
       "      <th>2</th>\n",
       "      <td>3</td>\n",
       "      <td>1</td>\n",
       "      <td>3</td>\n",
       "      <td>Heikkinen, Miss. Laina</td>\n",
       "      <td>0</td>\n",
       "      <td>26.0</td>\n",
       "      <td>0</td>\n",
       "      <td>0</td>\n",
       "      <td>STON/O2. 3101282</td>\n",
       "      <td>7.9250</td>\n",
       "      <td>NaN</td>\n",
       "      <td>2</td>\n",
       "    </tr>\n",
       "    <tr>\n",
       "      <th>3</th>\n",
       "      <td>4</td>\n",
       "      <td>1</td>\n",
       "      <td>1</td>\n",
       "      <td>Futrelle, Mrs. Jacques Heath (Lily May Peel)</td>\n",
       "      <td>0</td>\n",
       "      <td>35.0</td>\n",
       "      <td>1</td>\n",
       "      <td>0</td>\n",
       "      <td>113803</td>\n",
       "      <td>53.1000</td>\n",
       "      <td>C123</td>\n",
       "      <td>2</td>\n",
       "    </tr>\n",
       "    <tr>\n",
       "      <th>4</th>\n",
       "      <td>5</td>\n",
       "      <td>0</td>\n",
       "      <td>3</td>\n",
       "      <td>Allen, Mr. William Henry</td>\n",
       "      <td>1</td>\n",
       "      <td>35.0</td>\n",
       "      <td>0</td>\n",
       "      <td>0</td>\n",
       "      <td>373450</td>\n",
       "      <td>8.0500</td>\n",
       "      <td>NaN</td>\n",
       "      <td>2</td>\n",
       "    </tr>\n",
       "  </tbody>\n",
       "</table>\n",
       "</div>"
      ],
      "text/plain": [
       "   PassengerId  Survived  Pclass  \\\n",
       "0            1         0       3   \n",
       "1            2         1       1   \n",
       "2            3         1       3   \n",
       "3            4         1       1   \n",
       "4            5         0       3   \n",
       "\n",
       "                                                Name  Sex   Age  SibSp  Parch  \\\n",
       "0                            Braund, Mr. Owen Harris    1  22.0      1      0   \n",
       "1  Cumings, Mrs. John Bradley (Florence Briggs Th...    0  38.0      1      0   \n",
       "2                             Heikkinen, Miss. Laina    0  26.0      0      0   \n",
       "3       Futrelle, Mrs. Jacques Heath (Lily May Peel)    0  35.0      1      0   \n",
       "4                           Allen, Mr. William Henry    1  35.0      0      0   \n",
       "\n",
       "             Ticket     Fare Cabin  Embarked  \n",
       "0         A/5 21171   7.2500   NaN         2  \n",
       "1          PC 17599  71.2833   C85         0  \n",
       "2  STON/O2. 3101282   7.9250   NaN         2  \n",
       "3            113803  53.1000  C123         2  \n",
       "4            373450   8.0500   NaN         2  "
      ]
     },
     "execution_count": 31,
     "metadata": {},
     "output_type": "execute_result"
    }
   ],
   "source": [
    "train.head()"
   ]
  },
  {
   "cell_type": "code",
   "execution_count": 8,
   "metadata": {},
   "outputs": [
    {
     "name": "stdout",
     "output_type": "stream",
     "text": [
      "<class 'pandas.core.frame.DataFrame'>\n",
      "RangeIndex: 891 entries, 0 to 890\n",
      "Data columns (total 7 columns):\n",
      " #   Column    Non-Null Count  Dtype  \n",
      "---  ------    --------------  -----  \n",
      " 0   Pclass    891 non-null    int64  \n",
      " 1   Sex       891 non-null    int64  \n",
      " 2   Age       891 non-null    float64\n",
      " 3   SibSp     891 non-null    int64  \n",
      " 4   Parch     891 non-null    int64  \n",
      " 5   Fare      891 non-null    float64\n",
      " 6   Embarked  891 non-null    int64  \n",
      "dtypes: float64(2), int64(5)\n",
      "memory usage: 48.9 KB\n"
     ]
    }
   ],
   "source": [
    "#Features\n",
    "train_x = train.drop([\"PassengerId\",\"Name\",\"Ticket\",\"Cabin\",\"Survived\"], axis=1)\n",
    "#label\n",
    "train_y = train[\"Survived\"]\n",
    "train_x.info()"
   ]
  },
  {
   "cell_type": "code",
   "execution_count": 9,
   "metadata": {},
   "outputs": [],
   "source": [
    "#Choose only the data that contains survivors\n",
    "survived_label = train.groupby(['Survived'])\n",
    "alive = survived_label.get_group(1)"
   ]
  },
  {
   "cell_type": "code",
   "execution_count": 10,
   "metadata": {},
   "outputs": [],
   "source": [
    "#Choose only the data that contains dead people\n",
    "dead = survived_label.get_group(0)"
   ]
  },
  {
   "cell_type": "code",
   "execution_count": 11,
   "metadata": {},
   "outputs": [
    {
     "data": {
      "text/html": [
       "<div>\n",
       "<style scoped>\n",
       "    .dataframe tbody tr th:only-of-type {\n",
       "        vertical-align: middle;\n",
       "    }\n",
       "\n",
       "    .dataframe tbody tr th {\n",
       "        vertical-align: top;\n",
       "    }\n",
       "\n",
       "    .dataframe thead th {\n",
       "        text-align: right;\n",
       "    }\n",
       "</style>\n",
       "<table border=\"1\" class=\"dataframe\">\n",
       "  <thead>\n",
       "    <tr style=\"text-align: right;\">\n",
       "      <th></th>\n",
       "      <th>Pclass</th>\n",
       "      <th>Sex</th>\n",
       "      <th>Age</th>\n",
       "      <th>SibSp</th>\n",
       "      <th>Parch</th>\n",
       "      <th>Fare</th>\n",
       "      <th>Embarked</th>\n",
       "    </tr>\n",
       "  </thead>\n",
       "  <tbody>\n",
       "    <tr>\n",
       "      <th>1</th>\n",
       "      <td>1</td>\n",
       "      <td>0</td>\n",
       "      <td>38.0</td>\n",
       "      <td>1</td>\n",
       "      <td>0</td>\n",
       "      <td>71.2833</td>\n",
       "      <td>0</td>\n",
       "    </tr>\n",
       "    <tr>\n",
       "      <th>2</th>\n",
       "      <td>3</td>\n",
       "      <td>0</td>\n",
       "      <td>26.0</td>\n",
       "      <td>0</td>\n",
       "      <td>0</td>\n",
       "      <td>7.9250</td>\n",
       "      <td>2</td>\n",
       "    </tr>\n",
       "    <tr>\n",
       "      <th>3</th>\n",
       "      <td>1</td>\n",
       "      <td>0</td>\n",
       "      <td>35.0</td>\n",
       "      <td>1</td>\n",
       "      <td>0</td>\n",
       "      <td>53.1000</td>\n",
       "      <td>2</td>\n",
       "    </tr>\n",
       "    <tr>\n",
       "      <th>8</th>\n",
       "      <td>3</td>\n",
       "      <td>0</td>\n",
       "      <td>27.0</td>\n",
       "      <td>0</td>\n",
       "      <td>2</td>\n",
       "      <td>11.1333</td>\n",
       "      <td>2</td>\n",
       "    </tr>\n",
       "    <tr>\n",
       "      <th>9</th>\n",
       "      <td>2</td>\n",
       "      <td>0</td>\n",
       "      <td>14.0</td>\n",
       "      <td>1</td>\n",
       "      <td>0</td>\n",
       "      <td>30.0708</td>\n",
       "      <td>0</td>\n",
       "    </tr>\n",
       "  </tbody>\n",
       "</table>\n",
       "</div>"
      ],
      "text/plain": [
       "   Pclass  Sex   Age  SibSp  Parch     Fare  Embarked\n",
       "1       1    0  38.0      1      0  71.2833         0\n",
       "2       3    0  26.0      0      0   7.9250         2\n",
       "3       1    0  35.0      1      0  53.1000         2\n",
       "8       3    0  27.0      0      2  11.1333         2\n",
       "9       2    0  14.0      1      0  30.0708         0"
      ]
     },
     "execution_count": 11,
     "metadata": {},
     "output_type": "execute_result"
    }
   ],
   "source": [
    "#ALIVE\n",
    "#FEATURES\n",
    "alive_x = alive.drop([\"PassengerId\",\"Name\",\"Ticket\",\"Cabin\",\"Survived\"], axis=1)\n",
    "#label\n",
    "alive_y = alive[\"Survived\"]\n",
    "alive_x.head()"
   ]
  },
  {
   "cell_type": "code",
   "execution_count": 12,
   "metadata": {},
   "outputs": [
    {
     "data": {
      "text/html": [
       "<div>\n",
       "<style scoped>\n",
       "    .dataframe tbody tr th:only-of-type {\n",
       "        vertical-align: middle;\n",
       "    }\n",
       "\n",
       "    .dataframe tbody tr th {\n",
       "        vertical-align: top;\n",
       "    }\n",
       "\n",
       "    .dataframe thead th {\n",
       "        text-align: right;\n",
       "    }\n",
       "</style>\n",
       "<table border=\"1\" class=\"dataframe\">\n",
       "  <thead>\n",
       "    <tr style=\"text-align: right;\">\n",
       "      <th></th>\n",
       "      <th>Pclass</th>\n",
       "      <th>Sex</th>\n",
       "      <th>Age</th>\n",
       "      <th>SibSp</th>\n",
       "      <th>Parch</th>\n",
       "      <th>Fare</th>\n",
       "      <th>Embarked</th>\n",
       "    </tr>\n",
       "  </thead>\n",
       "  <tbody>\n",
       "    <tr>\n",
       "      <th>0</th>\n",
       "      <td>3</td>\n",
       "      <td>1</td>\n",
       "      <td>22.0</td>\n",
       "      <td>1</td>\n",
       "      <td>0</td>\n",
       "      <td>7.2500</td>\n",
       "      <td>2</td>\n",
       "    </tr>\n",
       "    <tr>\n",
       "      <th>4</th>\n",
       "      <td>3</td>\n",
       "      <td>1</td>\n",
       "      <td>35.0</td>\n",
       "      <td>0</td>\n",
       "      <td>0</td>\n",
       "      <td>8.0500</td>\n",
       "      <td>2</td>\n",
       "    </tr>\n",
       "    <tr>\n",
       "      <th>5</th>\n",
       "      <td>3</td>\n",
       "      <td>1</td>\n",
       "      <td>30.0</td>\n",
       "      <td>0</td>\n",
       "      <td>0</td>\n",
       "      <td>8.4583</td>\n",
       "      <td>1</td>\n",
       "    </tr>\n",
       "    <tr>\n",
       "      <th>6</th>\n",
       "      <td>1</td>\n",
       "      <td>1</td>\n",
       "      <td>54.0</td>\n",
       "      <td>0</td>\n",
       "      <td>0</td>\n",
       "      <td>51.8625</td>\n",
       "      <td>2</td>\n",
       "    </tr>\n",
       "    <tr>\n",
       "      <th>7</th>\n",
       "      <td>3</td>\n",
       "      <td>1</td>\n",
       "      <td>2.0</td>\n",
       "      <td>3</td>\n",
       "      <td>1</td>\n",
       "      <td>21.0750</td>\n",
       "      <td>2</td>\n",
       "    </tr>\n",
       "  </tbody>\n",
       "</table>\n",
       "</div>"
      ],
      "text/plain": [
       "   Pclass  Sex   Age  SibSp  Parch     Fare  Embarked\n",
       "0       3    1  22.0      1      0   7.2500         2\n",
       "4       3    1  35.0      0      0   8.0500         2\n",
       "5       3    1  30.0      0      0   8.4583         1\n",
       "6       1    1  54.0      0      0  51.8625         2\n",
       "7       3    1   2.0      3      1  21.0750         2"
      ]
     },
     "execution_count": 12,
     "metadata": {},
     "output_type": "execute_result"
    }
   ],
   "source": [
    "#DEAD\n",
    "#FEATURES\n",
    "dead_x = dead.drop([\"PassengerId\",\"Name\",\"Ticket\",\"Cabin\",\"Survived\"], axis=1)\n",
    "#label\n",
    "dead_y = dead[\"Survived\"]\n",
    "dead_x.head()"
   ]
  },
  {
   "cell_type": "code",
   "execution_count": 13,
   "metadata": {},
   "outputs": [],
   "source": [
    "#Sampling the data 80% train 20% test\n",
    "#GENERAL\n",
    "train_x, test_x, train_y, test_y = train_test_split(train_x, train_y, \n",
    "                                                  test_size=0.2, \n",
    "                                                  random_state=1)\n",
    "\n",
    "#ALIVE\n",
    "train_alive_x, test_alive_x, train_alive_y, test_alive_y = train_test_split(alive_x, alive_y, \n",
    "                                                  test_size=0.2, \n",
    "                                                  random_state=1)\n",
    "#DEAD\n",
    "train_dead_x, test_dead_x, train_dead_y, test_dead_y = train_test_split(dead_x, dead_y, \n",
    "                                                  test_size=0.2, \n",
    "                                                  random_state=1)"
   ]
  },
  {
   "cell_type": "markdown",
   "metadata": {},
   "source": [
    "**Python API**"
   ]
  },
  {
   "cell_type": "markdown",
   "metadata": {},
   "source": [
    "We need to convert the data into DMatrix. This is only necessary for the bare python api. The Following 4 (four) cells are an attempt to use this method. Unfortunately, as we will see, problems will arise. We will end up using the scikit-learn api."
   ]
  },
  {
   "cell_type": "code",
   "execution_count": 14,
   "metadata": {},
   "outputs": [],
   "source": [
    "#Converting to DMatrix\n",
    "#GENERAL\n",
    "d_train = xgb.DMatrix(train_x, train_y)\n",
    "d_test = xgb.DMatrix(test_x, test_y)\n",
    "#ALIVE\n",
    "d_train_alive = xgb.DMatrix(train_alive_x, train_alive_y)\n",
    "d_test_alive = xgb.DMatrix(test_alive_x, test_alive_y)\n",
    "#DEAD\n",
    "d_train_dead = xgb.DMatrix(train_dead_x, train_dead_y)\n",
    "d_test_dead = xgb.DMatrix(test_dead_x, test_dead_y)"
   ]
  },
  {
   "cell_type": "code",
   "execution_count": 15,
   "metadata": {},
   "outputs": [],
   "source": [
    "param = {\n",
    "    'booster':'gbtree',\n",
    "    'eta':0.3, #prevents overfitting\n",
    "    'max_depth':3, #maximum depth of tree\n",
    "    'objective':'binary:hinge',\n",
    "    'rate_drop':0.1,\n",
    "    'n_estimators':500\n",
    "}\n",
    "\n",
    "steṕs = 20"
   ]
  },
  {
   "cell_type": "code",
   "execution_count": 16,
   "metadata": {},
   "outputs": [
    {
     "name": "stdout",
     "output_type": "stream",
     "text": [
      "[18:06:17] WARNING: /workspace/src/learner.cc:480: \n",
      "Parameters: { n_estimators, rate_drop } might not be used.\n",
      "\n",
      "  This may not be accurate due to some parameters are only used in language bindings but\n",
      "  passed down to XGBoost core.  Or some parameters are not used but slip through this\n",
      "  verification. Please open an issue if you find above cases.\n",
      "\n",
      "\n"
     ]
    }
   ],
   "source": [
    "model = xgb.train(param, d_train, steṕs)"
   ]
  },
  {
   "cell_type": "code",
   "execution_count": 17,
   "metadata": {},
   "outputs": [
    {
     "name": "stdout",
     "output_type": "stream",
     "text": [
      "76.81 %\n"
     ]
    }
   ],
   "source": [
    "#predictions alive\n",
    "predictions = model.predict(d_test_alive)\n",
    "#print accuracy\n",
    "print(np.round(accuracy_score(test_alive_y,predictions)*100, 2),'%')"
   ]
  },
  {
   "cell_type": "markdown",
   "metadata": {},
   "source": [
    "I couldn't figure out how to obtain the probabilities. I tried to use the code we implemented in tensorflow but i kept getting an error.\n",
    "\n",
    "Below, I use the XGB scikt-learn api. It seems to work well!"
   ]
  },
  {
   "cell_type": "markdown",
   "metadata": {},
   "source": [
    "**XGB Classifier (scikit-learn API)**"
   ]
  },
  {
   "cell_type": "code",
   "execution_count": 18,
   "metadata": {},
   "outputs": [
    {
     "name": "stdout",
     "output_type": "stream",
     "text": [
      "88.41 %\n",
      "\n",
      "Predictions [0 1 1 1 1 1 1 1 1 0 1 1 1 1 1 1 1 1 1 1 1 1 0 1 1 1 1 1 1 1 1 1 1 1 1 0 1\n",
      " 1 1 1 1 1 1 1 1 0 1 1 1 0 1 1 1 1 0 1 1 1 1 0 1 1 1 1 1 1 1 1 1]\n"
     ]
    }
   ],
   "source": [
    "#XGBClassifier scikit-learn API \n",
    "model = xgb.XGBClassifier(objective = 'binary:logistic', max_depth = 6, learning_rate=0.3)\n",
    "#fit = training\n",
    "model.fit(train_x, train_y)\n",
    "#predictions\n",
    "predict_alive = model.predict(test_alive_x)\n",
    "print(np.round(accuracy_score(test_alive_y,predict_alive)*100, 2),'%')\n",
    "print('\\nPredictions', predict_alive)"
   ]
  },
  {
   "cell_type": "code",
   "execution_count": 19,
   "metadata": {},
   "outputs": [],
   "source": [
    "predict_prob = model.predict_proba(test_alive_x)"
   ]
  },
  {
   "cell_type": "code",
   "execution_count": 66,
   "metadata": {},
   "outputs": [],
   "source": [
    "#converting prob values to list\n",
    "df_prob = pd.DataFrame(predict_prob)\n",
    "s_prob_alive = df_prob[df_prob.columns[1]] \n",
    "list_prob_alive = s_prob_alive.values.tolist()"
   ]
  },
  {
   "cell_type": "code",
   "execution_count": 21,
   "metadata": {},
   "outputs": [
    {
     "data": {
      "image/png": "[encoded data removed]",
      "text/plain": [
       "<Figure size 432x288 with 1 Axes>"
      ]
     },
     "metadata": {
      "needs_background": "light"
     },
     "output_type": "display_data"
    }
   ],
   "source": [
    "hist_alive = plt.hist(list_prob_alive, range=(0,1))"
   ]
  },
  {
   "cell_type": "code",
   "execution_count": 22,
   "metadata": {},
   "outputs": [],
   "source": [
    "#converting prob values to list\n",
    "predict_dead = model.predict(test_dead_x)\n",
    "predict_prob_dead = model.predict_proba(test_dead_x)\n",
    "df_prob_dead = pd.DataFrame(predict_prob_dead)\n",
    "s_prob_dead = df_prob_dead[df_prob_dead.columns[1]] \n",
    "list_prob_dead = s_prob_dead.values.tolist()"
   ]
  },
  {
   "cell_type": "code",
   "execution_count": 23,
   "metadata": {},
   "outputs": [
    {
     "data": {
      "image/png": "[encoded data removed]",
      "text/plain": [
       "<Figure size 432x288 with 1 Axes>"
      ]
     },
     "metadata": {
      "needs_background": "light"
     },
     "output_type": "display_data"
    }
   ],
   "source": [
    "hist_dead = plt.hist(list_prob_dead, range=(0,1))"
   ]
  },
  {
   "cell_type": "code",
   "execution_count": 24,
   "metadata": {},
   "outputs": [
    {
     "data": {
      "text/plain": [
       "Text(0.5, 1.0, 'Results using XGB')"
      ]
     },
     "execution_count": 24,
     "metadata": {},
     "output_type": "execute_result"
    },
    {
     "data": {
      "image/png": "[encoded data removed]",
      "text/plain": [
       "<Figure size 432x288 with 1 Axes>"
      ]
     },
     "metadata": {
      "needs_background": "light"
     },
     "output_type": "display_data"
    }
   ],
   "source": [
    "plt.hist(list_prob_alive, range=(0,1), alpha=0.8,label='Alive')\n",
    "plt.hist(list_prob_dead, range=(0,1), alpha=0.7, label='Dead')\n",
    "plt.legend(loc='upper right')\n",
    "plt.xlabel('Probability of being alive')\n",
    "plt.ylabel('Events')\n",
    "plt.title('Results using XGB')"
   ]
  },
  {
   "cell_type": "markdown",
   "metadata": {},
   "source": [
    "**ROC Curve**"
   ]
  },
  {
   "cell_type": "code",
   "execution_count": 45,
   "metadata": {},
   "outputs": [
    {
     "data": {
      "image/png": "[encoded data removed]",
      "text/plain": [
       "<Figure size 432x288 with 1 Axes>"
      ]
     },
     "metadata": {
      "needs_background": "light"
     },
     "output_type": "display_data"
    }
   ],
   "source": [
    "#CREEMOS DATOS ALEADORIOS Y ORDENEMOLOS DE MENOR A MAYOR\n",
    "\n",
    "list_prob_alive = sorted(list_prob_alive)\n",
    "list_prob_dead = sorted(list_prob_dead)\n",
    "\n",
    "#LISTAS DONDE SE GUARDARAN LOS VALORES DE EFICIENCIA Y BACK_REJECTION\n",
    "eficiency = []\n",
    "background_rejection = []\n",
    "\n",
    "#ITERAMOS SOBRE UN FLOAT QUE VA DE 0 A 100 EN 1000 PASOS\n",
    "for cut in np.linspace(0,1, 50):\n",
    "    \n",
    "    #INICIALIZAMOS EL VALOR DE VIVOS ACEPTADOS Y MUERTOS RECHAZADOS\n",
    "    #PUES EN EL CORTE = 0 ACEPTAMOS TODOS LOS 1s Y RECHAZAMOS TODOS LOS 0s\n",
    "    vivos_aceptados = len(list_prob_alive)\n",
    "    muertos_rechazados = 0\n",
    "\n",
    "\n",
    "    for i, v in enumerate(list_prob_alive):\n",
    "        # YA QUE LAS LISTAS ESTAN ORDENADAS BASTA CON CHECAR EL PRIMER VALOR QUE \n",
    "        # SEA MAYOR QUE EL CORTE\n",
    "        if cut<=v:\n",
    "            vivos_aceptados-=i\n",
    "            break\n",
    "        #EN EL CASO DE QUE EL CORTE SEA MAYOR QUE TODAS LAS PROBS CONSIDERA QUE \n",
    "        # NINGUN VIVO FUE ACEPTADO\n",
    "        if i==len(list_prob_alive)-1:\n",
    "            vivos_aceptados=0\n",
    "\n",
    "    # ANALOGAMENTE PARA LOS MUERTOS        \n",
    "    for i, m in enumerate(list_prob_dead):\n",
    "        if cut<=m:\n",
    "            muertos_rechazados+=i\n",
    "            break\n",
    "        if i==len(list_prob_dead)-1:\n",
    "            muertos_rechazados=len(list_prob_dead)\n",
    "    \n",
    "    #ALMACENA EN LA LISTA\n",
    "    eficiency.append(vivos_aceptados/len(list_prob_alive))\n",
    "    background_rejection.append(muertos_rechazados/len(list_prob_dead))\n",
    "\n",
    "    xgbst = plt.plot(eficiency, background_rejection)\n",
    "    plt.xlabel('Signal efficiency')\n",
    "    plt.ylabel('Background rejection')\n",
    "    plt.title('XGB ROC curve')"
   ]
  },
  {
   "cell_type": "markdown",
   "metadata": {},
   "source": [
    "**Tensorflow**"
   ]
  },
  {
   "cell_type": "code",
   "execution_count": 27,
   "metadata": {},
   "outputs": [],
   "source": [
    "#FUNCTION ALIVE\n",
    "#create input function\n",
    "train_alive_fn = tf.compat.v1.estimator.inputs.pandas_input_fn(x=train_alive_x,\n",
    "                                                               y=train_alive_y,\n",
    "                                                               num_epochs=None,\n",
    "                                                               batch_size=100,\n",
    "                                                               shuffle=True)\n",
    "\n",
    "#validation function\n",
    "test_alive_fn = tf.compat.v1.estimator.inputs.pandas_input_fn(x=test_alive_x,\n",
    "                                                             y=test_alive_y,\n",
    "                                                              num_epochs=1,\n",
    "                                                              batch_size=\n",
    "                                                             len(test_alive_x),\n",
    "                                                              shuffle=False)"
   ]
  },
  {
   "cell_type": "code",
   "execution_count": 29,
   "metadata": {},
   "outputs": [],
   "source": [
    "#FUNCTION DEAD\n",
    "#create input function\n",
    "train_dead_fn = tf.compat.v1.estimator.inputs.pandas_input_fn(x=train_dead_x,\n",
    "                                                               y=train_dead_y,\n",
    "                                                               num_epochs=None,\n",
    "                                                               batch_size=100,\n",
    "                                                               shuffle=True)\n",
    "\n",
    "#validation function\n",
    "test_dead_fn = tf.compat.v1.estimator.inputs.pandas_input_fn(x=test_dead_x,\n",
    "                                                             y=test_dead_y,\n",
    "                                                              num_epochs=1,\n",
    "                                                              batch_size=\n",
    "                                                             len(test_dead_x),\n",
    "                                                              shuffle=False)"
   ]
  },
  {
   "cell_type": "code",
   "execution_count": 30,
   "metadata": {},
   "outputs": [],
   "source": [
    "#GENERAL FUNCTION\n",
    "#create input function\n",
    "train_input_fn = tf.compat.v1.estimator.inputs.pandas_input_fn(x=train_x,\n",
    "                                                               y=train_y,\n",
    "                                                               num_epochs=None,\n",
    "                                                               batch_size=100,\n",
    "                                                               shuffle=True)\n",
    "\n",
    "#validation function\n",
    "test_input_fn = tf.compat.v1.estimator.inputs.pandas_input_fn(x=test_x,\n",
    "                                                             y=test_y,\n",
    "                                                              num_epochs=1,\n",
    "                                                              batch_size=\n",
    "                                                             len(test_x),\n",
    "                                                              shuffle=False)"
   ]
  },
  {
   "cell_type": "code",
   "execution_count": 32,
   "metadata": {},
   "outputs": [],
   "source": [
    "#Feature Columns\n",
    "#the layman implementation of feature columns\n",
    "Sex = tf.feature_column.numeric_column(\"Sex\")\n",
    "Embarked = tf.feature_column.numeric_column(\"Embarked\")\n",
    "Age = tf.feature_column.numeric_column(\"Age\")\n",
    "Fare = tf.feature_column.numeric_column(\"Fare\")\n",
    "Parch = tf.feature_column.numeric_column(\"Parch\")\n",
    "Pclass = tf.feature_column.numeric_column(\"Pclass\")\n",
    "SibSp = tf.feature_column.numeric_column(\"SibSp\")\n",
    "\n",
    "ft_columns = [Sex, Embarked, Age, Fare, Parch, Pclass, SibSp]\n"
   ]
  },
  {
   "cell_type": "markdown",
   "metadata": {},
   "source": [
    "**BDT**"
   ]
  },
  {
   "cell_type": "code",
   "execution_count": 33,
   "metadata": {},
   "outputs": [
    {
     "name": "stdout",
     "output_type": "stream",
     "text": [
      "INFO:tensorflow:Using default config.\n",
      "WARNING:tensorflow:Using temporary folder as model directory: /home/alberto/tempfiles/tmpcslb4q2t\n",
      "INFO:tensorflow:Using config: {'_model_dir': '/home/alberto/tempfiles/tmpcslb4q2t', '_tf_random_seed': None, '_save_summary_steps': 100, '_save_checkpoints_steps': None, '_save_checkpoints_secs': 600, '_session_config': allow_soft_placement: true\n",
      "graph_options {\n",
      "  rewrite_options {\n",
      "    meta_optimizer_iterations: ONE\n",
      "  }\n",
      "}\n",
      ", '_keep_checkpoint_max': 5, '_keep_checkpoint_every_n_hours': 10000, '_log_step_count_steps': 100, '_train_distribute': None, '_device_fn': None, '_protocol': None, '_eval_distribute': None, '_experimental_distribute': None, '_experimental_max_worker_delay_secs': None, '_session_creation_timeout_secs': 7200, '_service': None, '_cluster_spec': ClusterSpec({}), '_task_type': 'worker', '_task_id': 0, '_global_id_in_cluster': 0, '_master': '', '_evaluation_master': '', '_is_chief': True, '_num_ps_replicas': 0, '_num_worker_replicas': 1}\n"
     ]
    }
   ],
   "source": [
    "bdtmodel = tf.estimator.BoostedTreesClassifier(feature_columns=ft_columns, n_batches_per_layer=1)"
   ]
  },
  {
   "cell_type": "code",
   "execution_count": 35,
   "metadata": {},
   "outputs": [
    {
     "name": "stdout",
     "output_type": "stream",
     "text": [
      "WARNING:tensorflow:From /home/alberto/xgb/lib/python3.8/site-packages/tensorflow/python/ops/resource_variable_ops.py:1659: calling BaseResourceVariable.__init__ (from tensorflow.python.ops.resource_variable_ops) with constraint is deprecated and will be removed in a future version.\n",
      "Instructions for updating:\n",
      "If using Keras pass *_constraint arguments to layers.\n",
      "WARNING:tensorflow:From /home/alberto/xgb/lib/python3.8/site-packages/tensorflow/python/training/training_util.py:235: Variable.initialized_value (from tensorflow.python.ops.variables) is deprecated and will be removed in a future version.\n",
      "Instructions for updating:\n",
      "Use Variable.read_value. Variables in 2.X are initialized automatically both in eager and graph (inside tf.defun) contexts.\n",
      "WARNING:tensorflow:From /home/alberto/xgb/lib/python3.8/site-packages/tensorflow_estimator/python/estimator/inputs/queues/feeding_queue_runner.py:60: QueueRunner.__init__ (from tensorflow.python.training.queue_runner_impl) is deprecated and will be removed in a future version.\n",
      "Instructions for updating:\n",
      "To construct input pipelines, use the `tf.data` module.\n",
      "WARNING:tensorflow:From /home/alberto/xgb/lib/python3.8/site-packages/tensorflow_estimator/python/estimator/inputs/queues/feeding_functions.py:491: add_queue_runner (from tensorflow.python.training.queue_runner_impl) is deprecated and will be removed in a future version.\n",
      "Instructions for updating:\n",
      "To construct input pipelines, use the `tf.data` module.\n",
      "INFO:tensorflow:Calling model_fn.\n",
      "INFO:tensorflow:Done calling model_fn.\n",
      "INFO:tensorflow:Create CheckpointSaverHook.\n",
      "WARNING:tensorflow:Issue encountered when serializing resources.\n",
      "Type is unsupported, or the types of the items don't match field type in CollectionDef. Note this is a warning and probably safe to ignore.\n",
      "'_Resource' object has no attribute 'name'\n",
      "INFO:tensorflow:Graph was finalized.\n",
      "INFO:tensorflow:Running local_init_op.\n",
      "INFO:tensorflow:Done running local_init_op.\n",
      "WARNING:tensorflow:From /home/alberto/xgb/lib/python3.8/site-packages/tensorflow/python/training/monitored_session.py:906: start_queue_runners (from tensorflow.python.training.queue_runner_impl) is deprecated and will be removed in a future version.\n",
      "Instructions for updating:\n",
      "To construct input pipelines, use the `tf.data` module.\n",
      "WARNING:tensorflow:Issue encountered when serializing resources.\n",
      "Type is unsupported, or the types of the items don't match field type in CollectionDef. Note this is a warning and probably safe to ignore.\n",
      "'_Resource' object has no attribute 'name'\n",
      "INFO:tensorflow:Calling checkpoint listeners before saving checkpoint 0...\n",
      "INFO:tensorflow:Saving checkpoints for 0 into /home/alberto/tempfiles/tmpcslb4q2t/model.ckpt.\n",
      "WARNING:tensorflow:Issue encountered when serializing resources.\n",
      "Type is unsupported, or the types of the items don't match field type in CollectionDef. Note this is a warning and probably safe to ignore.\n",
      "'_Resource' object has no attribute 'name'\n",
      "INFO:tensorflow:Calling checkpoint listeners after saving checkpoint 0...\n",
      "INFO:tensorflow:loss = 0.6931472, step = 0\n",
      "WARNING:tensorflow:It seems that global step (tf.train.get_global_step) has not been increased. Current value (could be stable): 0 vs previous value: 0. You could increase the global step by passing tf.train.get_global_step() to Optimizer.apply_gradients or Optimizer.minimize.\n",
      "INFO:tensorflow:global_step/sec: 114.08\n",
      "INFO:tensorflow:loss = 0.22706537, step = 99 (0.878 sec)\n",
      "INFO:tensorflow:global_step/sec: 108.774\n",
      "INFO:tensorflow:loss = 0.20599276, step = 199 (0.919 sec)\n",
      "INFO:tensorflow:global_step/sec: 95.5284\n",
      "INFO:tensorflow:loss = 0.19856876, step = 299 (1.047 sec)\n",
      "INFO:tensorflow:global_step/sec: 91.3331\n",
      "INFO:tensorflow:loss = 0.17819098, step = 399 (1.095 sec)\n",
      "INFO:tensorflow:global_step/sec: 82.4072\n",
      "INFO:tensorflow:loss = 0.10981845, step = 499 (1.214 sec)\n",
      "INFO:tensorflow:Calling checkpoint listeners before saving checkpoint 500...\n",
      "INFO:tensorflow:Saving checkpoints for 500 into /home/alberto/tempfiles/tmpcslb4q2t/model.ckpt.\n",
      "WARNING:tensorflow:Issue encountered when serializing resources.\n",
      "Type is unsupported, or the types of the items don't match field type in CollectionDef. Note this is a warning and probably safe to ignore.\n",
      "'_Resource' object has no attribute 'name'\n",
      "INFO:tensorflow:Calling checkpoint listeners after saving checkpoint 500...\n",
      "INFO:tensorflow:Loss for final step: 0.10981845.\n"
     ]
    },
    {
     "data": {
      "text/plain": [
       "<tensorflow_estimator.python.estimator.canned.boosted_trees.BoostedTreesClassifier at 0x7f4bc564b220>"
      ]
     },
     "execution_count": 35,
     "metadata": {},
     "output_type": "execute_result"
    }
   ],
   "source": [
    "bdtmodel.train(input_fn=train_input_fn, steps=500)"
   ]
  },
  {
   "cell_type": "code",
   "execution_count": 36,
   "metadata": {},
   "outputs": [
    {
     "name": "stdout",
     "output_type": "stream",
     "text": [
      "INFO:tensorflow:Calling model_fn.\n",
      "WARNING:tensorflow:From /home/alberto/xgb/lib/python3.8/site-packages/tensorflow_estimator/python/estimator/canned/head.py:637: auc (from tensorflow.python.ops.metrics_impl) is deprecated and will be removed in a future version.\n",
      "Instructions for updating:\n",
      "The value of AUC returned by this may race with the update so this is deprecated. Please use tf.keras.metrics.AUC instead.\n",
      "WARNING:tensorflow:Trapezoidal rule is known to produce incorrect PR-AUCs; please switch to \"careful_interpolation\" instead.\n",
      "WARNING:tensorflow:Trapezoidal rule is known to produce incorrect PR-AUCs; please switch to \"careful_interpolation\" instead.\n",
      "INFO:tensorflow:Done calling model_fn.\n",
      "INFO:tensorflow:Starting evaluation at 2020-05-28T18:24:11Z\n",
      "INFO:tensorflow:Graph was finalized.\n",
      "INFO:tensorflow:Restoring parameters from /home/alberto/tempfiles/tmpcslb4q2t/model.ckpt-500\n",
      "INFO:tensorflow:Running local_init_op.\n",
      "INFO:tensorflow:Done running local_init_op.\n",
      "INFO:tensorflow:Inference Time : 0.52317s\n",
      "INFO:tensorflow:Finished evaluation at 2020-05-28-18:24:11\n",
      "INFO:tensorflow:Saving dict for global step 500: accuracy = 0.8405797, accuracy_baseline = 1.0, auc = 0.0, auc_precision_recall = 1.0, average_loss = 0.45786792, global_step = 500, label/mean = 1.0, loss = 0.45786792, precision = 1.0, prediction/mean = 0.8154595, recall = 0.8405797\n",
      "WARNING:tensorflow:Issue encountered when serializing resources.\n",
      "Type is unsupported, or the types of the items don't match field type in CollectionDef. Note this is a warning and probably safe to ignore.\n",
      "'_Resource' object has no attribute 'name'\n",
      "INFO:tensorflow:Saving 'checkpoint_path' summary for global step 500: /home/alberto/tempfiles/tmpcslb4q2t/model.ckpt-500\n",
      "\n",
      "Test accuracy: 84.057969%\n",
      "\n"
     ]
    }
   ],
   "source": [
    "accuracy_score = bdtmodel.evaluate(input_fn=test_alive_fn)[\"accuracy\"]\n",
    "print(\"\\nTest accuracy: {0:f}%\\n\".format(accuracy_score*100))"
   ]
  },
  {
   "cell_type": "code",
   "execution_count": 37,
   "metadata": {},
   "outputs": [
    {
     "name": "stdout",
     "output_type": "stream",
     "text": [
      "INFO:tensorflow:Calling model_fn.\n",
      "INFO:tensorflow:Done calling model_fn.\n",
      "INFO:tensorflow:Graph was finalized.\n",
      "INFO:tensorflow:Restoring parameters from /home/alberto/tempfiles/tmpcslb4q2t/model.ckpt-500\n",
      "INFO:tensorflow:Running local_init_op.\n",
      "INFO:tensorflow:Done running local_init_op.\n",
      "Prediction \tYOU DIED (66.64618253707886 %) \n",
      "Prediction \tYOU LIVED (87.30825781822205 %) \n",
      "Prediction \tYOU LIVED (99.96976852416992 %) \n",
      "Prediction \tYOU LIVED (99.11206364631653 %) \n",
      "Prediction \tYOU LIVED (80.55319786071777 %) \n",
      "Prediction \tYOU LIVED (99.99927282333374 %) \n",
      "Prediction \tYOU LIVED (99.9944806098938 %) \n",
      "Prediction \tYOU LIVED (99.87860321998596 %) \n",
      "Prediction \tYOU LIVED (99.99191761016846 %) \n",
      "Prediction \tYOU DIED (79.71543073654175 %) \n",
      "Prediction \tYOU DIED (69.81295347213745 %) \n",
      "Prediction \tYOU LIVED (99.99637603759766 %) \n",
      "Prediction \tYOU LIVED (99.99196529388428 %) \n",
      "Prediction \tYOU LIVED (99.86213445663452 %) \n",
      "Prediction \tYOU LIVED (99.9419093132019 %) \n",
      "Prediction \tYOU LIVED (98.57929348945618 %) \n",
      "Prediction \tYOU LIVED (98.66344928741455 %) \n",
      "Prediction \tYOU LIVED (99.86962676048279 %) \n",
      "Prediction \tYOU LIVED (79.48910593986511 %) \n",
      "Prediction \tYOU LIVED (99.99926090240479 %) \n",
      "Prediction \tYOU LIVED (98.07470440864563 %) \n",
      "Prediction \tYOU LIVED (99.99830722808838 %) \n",
      "Prediction \tYOU DIED (96.0041344165802 %) \n",
      "Prediction \tYOU LIVED (99.79979395866394 %) \n",
      "Prediction \tYOU LIVED (78.04518342018127 %) \n",
      "Prediction \tYOU LIVED (99.6272325515747 %) \n",
      "Prediction \tYOU LIVED (99.98127818107605 %) \n",
      "Prediction \tYOU LIVED (99.96590614318848 %) \n",
      "Prediction \tYOU LIVED (77.48308777809143 %) \n",
      "Prediction \tYOU DIED (74.22395944595337 %) \n",
      "Prediction \tYOU DIED (91.82471036911011 %) \n",
      "Prediction \tYOU DIED (58.85942578315735 %) \n",
      "Prediction \tYOU LIVED (64.06599283218384 %) \n",
      "Prediction \tYOU LIVED (99.88247752189636 %) \n",
      "Prediction \tYOU LIVED (92.04561114311218 %) \n",
      "Prediction \tYOU DIED (97.91964888572693 %) \n",
      "Prediction \tYOU LIVED (95.64898014068604 %) \n",
      "Prediction \tYOU LIVED (99.91845488548279 %) \n",
      "Prediction \tYOU LIVED (96.03314995765686 %) \n",
      "Prediction \tYOU LIVED (99.997079372406 %) \n",
      "Prediction \tYOU LIVED (99.83025789260864 %) \n",
      "Prediction \tYOU LIVED (99.99938011169434 %) \n",
      "Prediction \tYOU LIVED (99.95836615562439 %) \n",
      "Prediction \tYOU LIVED (99.90062117576599 %) \n",
      "Prediction \tYOU LIVED (57.54444599151611 %) \n",
      "Prediction \tYOU LIVED (69.41773295402527 %) \n",
      "Prediction \tYOU LIVED (99.99915361404419 %) \n",
      "Prediction \tYOU LIVED (99.94658827781677 %) \n",
      "Prediction \tYOU LIVED (75.1539945602417 %) \n",
      "Prediction \tYOU DIED (99.97207522392273 %) \n",
      "Prediction \tYOU LIVED (99.63854551315308 %) \n",
      "Prediction \tYOU LIVED (99.97223019599915 %) \n",
      "Prediction \tYOU LIVED (96.95655107498169 %) \n",
      "Prediction \tYOU LIVED (99.9329924583435 %) \n",
      "Prediction \tYOU DIED (86.87779307365417 %) \n",
      "Prediction \tYOU LIVED (99.05176758766174 %) \n",
      "Prediction \tYOU LIVED (99.97028708457947 %) \n",
      "Prediction \tYOU LIVED (99.99973773956299 %) \n",
      "Prediction \tYOU LIVED (50.79733729362488 %) \n",
      "Prediction \tYOU LIVED (74.67055916786194 %) \n",
      "Prediction \tYOU LIVED (98.90108704566956 %) \n",
      "Prediction \tYOU DIED (58.44950079917908 %) \n",
      "Prediction \tYOU LIVED (51.27657651901245 %) \n",
      "Prediction \tYOU LIVED (99.9887228012085 %) \n",
      "Prediction \tYOU LIVED (99.80579018592834 %) \n",
      "Prediction \tYOU LIVED (99.13013577461243 %) \n",
      "Prediction \tYOU LIVED (91.37047529220581 %) \n",
      "Prediction \tYOU LIVED (99.99833106994629 %) \n",
      "Prediction \tYOU LIVED (99.99711513519287 %) \n"
     ]
    }
   ],
   "source": [
    "LABEL =['YOU DIED', 'YOU LIVED']\n",
    "listabdt=[]\n",
    "predictions = bdtmodel.predict(input_fn=test_alive_fn)\n",
    "for i, predict in enumerate(predictions):\n",
    "    listabdt.append(predict['probabilities'][1])\n",
    "    label_ = predict['class_ids'][0]\n",
    "    probs = predict['probabilities'][label_]\n",
    "    print(f'Prediction \\t{LABEL[label_]} ({100*probs} %) ')"
   ]
  },
  {
   "cell_type": "code",
   "execution_count": 38,
   "metadata": {},
   "outputs": [
    {
     "data": {
      "text/plain": [
       "(array([ 4.,  1.,  2.,  2.,  2.,  3.,  2.,  5.,  2., 46.]),\n",
       " array([0. , 0.1, 0.2, 0.3, 0.4, 0.5, 0.6, 0.7, 0.8, 0.9, 1. ],\n",
       "       dtype=float32),\n",
       " <a list of 10 Patch objects>)"
      ]
     },
     "execution_count": 38,
     "metadata": {},
     "output_type": "execute_result"
    },
    {
     "data": {
      "image/png": "[encoded data removed]",
      "text/plain": [
       "<Figure size 432x288 with 1 Axes>"
      ]
     },
     "metadata": {
      "needs_background": "light"
     },
     "output_type": "display_data"
    }
   ],
   "source": [
    "plt.hist(listabdt, range=(0,1))"
   ]
  },
  {
   "cell_type": "code",
   "execution_count": 39,
   "metadata": {},
   "outputs": [
    {
     "name": "stdout",
     "output_type": "stream",
     "text": [
      "INFO:tensorflow:Calling model_fn.\n",
      "INFO:tensorflow:Done calling model_fn.\n",
      "INFO:tensorflow:Graph was finalized.\n",
      "INFO:tensorflow:Restoring parameters from /home/alberto/tempfiles/tmpcslb4q2t/model.ckpt-500\n",
      "INFO:tensorflow:Running local_init_op.\n",
      "INFO:tensorflow:Done running local_init_op.\n",
      "Prediction \tYOU DIED (99.95525479316711 %) \n",
      "Prediction \tYOU LIVED (99.98546838760376 %) \n",
      "Prediction \tYOU DIED (99.97144341468811 %) \n",
      "Prediction \tYOU DIED (99.90215301513672 %) \n",
      "Prediction \tYOU LIVED (99.62462782859802 %) \n",
      "Prediction \tYOU DIED (81.22875690460205 %) \n",
      "Prediction \tYOU DIED (76.81828737258911 %) \n",
      "Prediction \tYOU DIED (99.72932934761047 %) \n",
      "Prediction \tYOU DIED (99.97207522392273 %) \n",
      "Prediction \tYOU DIED (99.95525479316711 %) \n",
      "Prediction \tYOU DIED (99.82860684394836 %) \n",
      "Prediction \tYOU DIED (99.92504715919495 %) \n",
      "Prediction \tYOU DIED (99.94903802871704 %) \n",
      "Prediction \tYOU DIED (78.8767158985138 %) \n",
      "Prediction \tYOU DIED (99.99183416366577 %) \n",
      "Prediction \tYOU DIED (96.58346176147461 %) \n",
      "Prediction \tYOU DIED (98.5383927822113 %) \n",
      "Prediction \tYOU LIVED (82.08326697349548 %) \n",
      "Prediction \tYOU DIED (96.31819725036621 %) \n",
      "Prediction \tYOU DIED (83.3914041519165 %) \n",
      "Prediction \tYOU DIED (99.61891770362854 %) \n",
      "Prediction \tYOU DIED (99.48257803916931 %) \n",
      "Prediction \tYOU DIED (87.78511881828308 %) \n",
      "Prediction \tYOU DIED (99.99114274978638 %) \n",
      "Prediction \tYOU DIED (99.9894380569458 %) \n",
      "Prediction \tYOU DIED (81.36252164840698 %) \n",
      "Prediction \tYOU DIED (56.266748905181885 %) \n",
      "Prediction \tYOU DIED (97.07159399986267 %) \n",
      "Prediction \tYOU DIED (96.31819725036621 %) \n",
      "Prediction \tYOU LIVED (51.84177756309509 %) \n",
      "Prediction \tYOU DIED (97.25664258003235 %) \n",
      "Prediction \tYOU DIED (99.97192025184631 %) \n",
      "Prediction \tYOU DIED (96.64665460586548 %) \n",
      "Prediction \tYOU DIED (99.97976422309875 %) \n",
      "Prediction \tYOU DIED (99.65215921401978 %) \n",
      "Prediction \tYOU DIED (98.31207990646362 %) \n",
      "Prediction \tYOU DIED (99.93776679039001 %) \n",
      "Prediction \tYOU DIED (99.265456199646 %) \n",
      "Prediction \tYOU DIED (90.94113111495972 %) \n",
      "Prediction \tYOU DIED (99.80758428573608 %) \n",
      "Prediction \tYOU DIED (99.07684922218323 %) \n",
      "Prediction \tYOU DIED (97.98830151557922 %) \n",
      "Prediction \tYOU DIED (99.92380142211914 %) \n",
      "Prediction \tYOU DIED (97.17143774032593 %) \n",
      "Prediction \tYOU DIED (98.72300028800964 %) \n",
      "Prediction \tYOU DIED (99.96751546859741 %) \n",
      "Prediction \tYOU DIED (99.56120252609253 %) \n",
      "Prediction \tYOU DIED (99.98722076416016 %) \n",
      "Prediction \tYOU DIED (99.21197891235352 %) \n",
      "Prediction \tYOU DIED (70.02027630805969 %) \n",
      "Prediction \tYOU DIED (97.16533422470093 %) \n",
      "Prediction \tYOU DIED (97.1966564655304 %) \n",
      "Prediction \tYOU DIED (99.98281002044678 %) \n",
      "Prediction \tYOU DIED (81.4904510974884 %) \n",
      "Prediction \tYOU DIED (64.58301544189453 %) \n",
      "Prediction \tYOU DIED (82.59801268577576 %) \n",
      "Prediction \tYOU DIED (99.97883439064026 %) \n",
      "Prediction \tYOU DIED (99.57017302513123 %) \n",
      "Prediction \tYOU DIED (99.99064207077026 %) \n",
      "Prediction \tYOU DIED (91.59623980522156 %) \n",
      "Prediction \tYOU DIED (55.92529773712158 %) \n",
      "Prediction \tYOU LIVED (64.23275470733643 %) \n",
      "Prediction \tYOU DIED (97.65411019325256 %) \n",
      "Prediction \tYOU DIED (99.9885082244873 %) \n",
      "Prediction \tYOU DIED (90.20026922225952 %) \n",
      "Prediction \tYOU LIVED (83.25042724609375 %) \n",
      "Prediction \tYOU DIED (96.28087282180786 %) \n",
      "Prediction \tYOU DIED (99.97883439064026 %) \n",
      "Prediction \tYOU DIED (97.83251881599426 %) \n",
      "Prediction \tYOU DIED (99.96523857116699 %) \n",
      "Prediction \tYOU DIED (99.67451095581055 %) \n",
      "Prediction \tYOU DIED (76.26227736473083 %) \n",
      "Prediction \tYOU DIED (98.79487752914429 %) \n",
      "Prediction \tYOU DIED (99.97568726539612 %) \n",
      "Prediction \tYOU DIED (99.83096122741699 %) \n",
      "Prediction \tYOU DIED (62.175798416137695 %) \n",
      "Prediction \tYOU DIED (99.97883439064026 %) \n",
      "Prediction \tYOU DIED (98.88471364974976 %) \n",
      "Prediction \tYOU DIED (97.41631150245667 %) \n",
      "Prediction \tYOU DIED (95.05318403244019 %) \n",
      "Prediction \tYOU DIED (99.06251430511475 %) \n",
      "Prediction \tYOU DIED (98.25069308280945 %) \n",
      "Prediction \tYOU DIED (99.99791383743286 %) \n",
      "Prediction \tYOU DIED (90.37777781486511 %) \n",
      "Prediction \tYOU LIVED (99.9484658241272 %) \n",
      "Prediction \tYOU DIED (92.66232252120972 %) \n",
      "Prediction \tYOU DIED (99.97883439064026 %) \n",
      "Prediction \tYOU DIED (52.49350666999817 %) \n",
      "Prediction \tYOU DIED (97.82730340957642 %) \n",
      "Prediction \tYOU DIED (99.88001585006714 %) \n",
      "Prediction \tYOU DIED (99.56120252609253 %) \n",
      "Prediction \tYOU DIED (99.98458623886108 %) \n",
      "Prediction \tYOU DIED (98.9123523235321 %) \n",
      "Prediction \tYOU LIVED (55.57932257652283 %) \n",
      "Prediction \tYOU DIED (73.25400114059448 %) \n",
      "Prediction \tYOU LIVED (64.06599283218384 %) \n",
      "Prediction \tYOU DIED (99.96751546859741 %) \n",
      "Prediction \tYOU DIED (99.97437596321106 %) \n",
      "Prediction \tYOU DIED (91.99915528297424 %) \n",
      "Prediction \tYOU DIED (98.0496883392334 %) \n",
      "Prediction \tYOU DIED (99.99675750732422 %) \n",
      "Prediction \tYOU DIED (99.06251430511475 %) \n",
      "Prediction \tYOU DIED (97.26563096046448 %) \n",
      "Prediction \tYOU DIED (92.42002367973328 %) \n",
      "Prediction \tYOU DIED (60.41738986968994 %) \n",
      "Prediction \tYOU LIVED (84.03264880180359 %) \n",
      "Prediction \tYOU DIED (99.89622831344604 %) \n",
      "Prediction \tYOU LIVED (87.28623390197754 %) \n",
      "Prediction \tYOU DIED (96.58346176147461 %) \n",
      "Prediction \tYOU DIED (96.10018134117126 %) \n"
     ]
    }
   ],
   "source": [
    "LABEL =['YOU DIED', 'YOU LIVED']\n",
    "listabdt2=[]\n",
    "predictions = bdtmodel.predict(input_fn=test_dead_fn)\n",
    "for i, predict in enumerate(predictions):\n",
    "    listabdt2.append(predict['probabilities'][1])\n",
    "    label_ = predict['class_ids'][0]\n",
    "    probs = predict['probabilities'][label_]\n",
    "    print(f'Prediction \\t{LABEL[label_]} ({100*probs} %) ')"
   ]
  },
  {
   "cell_type": "code",
   "execution_count": 40,
   "metadata": {},
   "outputs": [
    {
     "data": {
      "text/plain": [
       "(array([82.,  6.,  5.,  3.,  3.,  2.,  2.,  0.,  4.,  3.]),\n",
       " array([0. , 0.1, 0.2, 0.3, 0.4, 0.5, 0.6, 0.7, 0.8, 0.9, 1. ],\n",
       "       dtype=float32),\n",
       " <a list of 10 Patch objects>)"
      ]
     },
     "execution_count": 40,
     "metadata": {},
     "output_type": "execute_result"
    },
    {
     "data": {
      "image/png": "[encoded data removed]",
      "text/plain": [
       "<Figure size 432x288 with 1 Axes>"
      ]
     },
     "metadata": {
      "needs_background": "light"
     },
     "output_type": "display_data"
    }
   ],
   "source": [
    "plt.hist(listabdt2, range=(0,1))"
   ]
  },
  {
   "cell_type": "code",
   "execution_count": 42,
   "metadata": {},
   "outputs": [
    {
     "data": {
      "text/plain": [
       "Text(0.5, 1.0, 'Results using a BDT')"
      ]
     },
     "execution_count": 42,
     "metadata": {},
     "output_type": "execute_result"
    },
    {
     "data": {
      "image/png": "[encoded data removed]",
      "text/plain": [
       "<Figure size 432x288 with 1 Axes>"
      ]
     },
     "metadata": {
      "needs_background": "light"
     },
     "output_type": "display_data"
    }
   ],
   "source": [
    "plt.hist(listabdt, range=(0,1), alpha=0.8, label='Alive')\n",
    "plt.hist(listabdt2, range=(0,1), alpha=0.8, label='Dead')\n",
    "plt.legend(loc='upper right')\n",
    "plt.xlabel('Probability of being alive')\n",
    "plt.ylabel('Events')\n",
    "plt.title('Results using a BDT')"
   ]
  },
  {
   "cell_type": "code",
   "execution_count": 43,
   "metadata": {},
   "outputs": [
    {
     "data": {
      "image/png": "[encoded data removed]",
      "text/plain": [
       "<Figure size 432x288 with 1 Axes>"
      ]
     },
     "metadata": {
      "needs_background": "light"
     },
     "output_type": "display_data"
    }
   ],
   "source": [
    "#CREEMOS DATOS ALEADORIOS Y ORDENEMOLOS DE MENOR A MAYOR\n",
    "\n",
    "listabdt = sorted(listabdt)\n",
    "listabdt2 = sorted(listabdt2)\n",
    "\n",
    "#LISTAS DONDE SE GUARDARAN LOS VALORES DE EFICIENCIA Y BACK_REJECTION\n",
    "eficiency2 = []\n",
    "background_rejection2 = []\n",
    "\n",
    "#ITERAMOS SOBRE UN FLOAT QUE VA DE 0 A 100 EN 1000 PASOS\n",
    "for cut in np.linspace(0,1, 50):\n",
    "    \n",
    "    #INICIALIZAMOS EL VALOR DE VIVOS ACEPTADOS Y MUERTOS RECHAZADOS\n",
    "    #PUES EN EL CORTE = 0 ACEPTAMOS TODOS LOS 1s Y RECHAZAMOS TODOS LOS 0s\n",
    "    vivos_aceptados = len(listabdt)\n",
    "    muertos_rechazados = 0\n",
    "\n",
    "\n",
    "    for i, v in enumerate(listabdt):\n",
    "        # YA QUE LAS LISTAS ESTAN ORDENADAS BASTA CON CHECAR EL PRIMER VALOR QUE \n",
    "        # SEA MAYOR QUE EL CORTE\n",
    "        if cut<=v:\n",
    "            vivos_aceptados-=i\n",
    "            break\n",
    "        #EN EL CASO DE QUE EL CORTE SEA MAYOR QUE TODAS LAS PROBS CONSIDERA QUE \n",
    "        # NINGUN VIVO FUE ACEPTADO\n",
    "        if i==len(listabdt)-1:\n",
    "            vivos_aceptados=0\n",
    "\n",
    "    # ANALOGAMENTE PARA LOS MUERTOS        \n",
    "    for i, m in enumerate(listabdt2):\n",
    "        if cut<=m:\n",
    "            muertos_rechazados+=i\n",
    "            break\n",
    "        if i==len(listabdt2)-1:\n",
    "            muertos_rechazados=len(listabdt2)\n",
    "    \n",
    "    #ALMACENA EN LA LISTA\n",
    "    eficiency2.append(vivos_aceptados/len(listabdt))\n",
    "    background_rejection2.append(muertos_rechazados/len(listabdt2))\n",
    "\n",
    "    arbol = plt.plot(eficiency2, background_rejection2)\n",
    "    plt.xlabel('Signal efficiency')\n",
    "    plt.ylabel('Background rejection')\n",
    "    plt.title('BDT ROC curve')"
   ]
  },
  {
   "cell_type": "markdown",
   "metadata": {},
   "source": [
    "**XGB VS BDT**"
   ]
  },
  {
   "cell_type": "code",
   "execution_count": 67,
   "metadata": {},
   "outputs": [
    {
     "data": {
      "image/png": "[encoded data removed]",
      "text/plain": [
       "<Figure size 432x288 with 1 Axes>"
      ]
     },
     "metadata": {
      "needs_background": "light"
     },
     "output_type": "display_data"
    }
   ],
   "source": [
    "xgbst = plt.plot(eficiency, background_rejection, label = 'XGB')\n",
    "arbol = plt.plot(eficiency2, background_rejection2, label = 'BDT')\n",
    "plt.legend(loc='lower left')\n",
    "plt.xlabel('Signal efficiency')\n",
    "plt.ylabel('Background rejection')\n",
    "plt.title('XGB vs TF-BDT')\n",
    "plt.show()"
   ]
  },
  {
   "cell_type": "markdown",
   "metadata": {},
   "source": [
    "**DNN**"
   ]
  },
  {
   "cell_type": "code",
   "execution_count": 49,
   "metadata": {},
   "outputs": [
    {
     "name": "stdout",
     "output_type": "stream",
     "text": [
      "INFO:tensorflow:Using default config.\n",
      "WARNING:tensorflow:Using temporary folder as model directory: /home/alberto/tempfiles/tmp7ghcqsy3\n",
      "INFO:tensorflow:Using config: {'_model_dir': '/home/alberto/tempfiles/tmp7ghcqsy3', '_tf_random_seed': None, '_save_summary_steps': 100, '_save_checkpoints_steps': None, '_save_checkpoints_secs': 600, '_session_config': allow_soft_placement: true\n",
      "graph_options {\n",
      "  rewrite_options {\n",
      "    meta_optimizer_iterations: ONE\n",
      "  }\n",
      "}\n",
      ", '_keep_checkpoint_max': 5, '_keep_checkpoint_every_n_hours': 10000, '_log_step_count_steps': 100, '_train_distribute': None, '_device_fn': None, '_protocol': None, '_eval_distribute': None, '_experimental_distribute': None, '_experimental_max_worker_delay_secs': None, '_session_creation_timeout_secs': 7200, '_service': None, '_cluster_spec': ClusterSpec({}), '_task_type': 'worker', '_task_id': 0, '_global_id_in_cluster': 0, '_master': '', '_evaluation_master': '', '_is_chief': True, '_num_ps_replicas': 0, '_num_worker_replicas': 1}\n"
     ]
    }
   ],
   "source": [
    "dnnmodel = tf.estimator.DNNClassifier(feature_columns=ft_columns,\n",
    "                                   hidden_units=[35,25,30], \n",
    "                                   n_classes=2, \n",
    "                                   optimizer='Adam')"
   ]
  },
  {
   "cell_type": "code",
   "execution_count": 54,
   "metadata": {},
   "outputs": [
    {
     "name": "stdout",
     "output_type": "stream",
     "text": [
      "INFO:tensorflow:Calling model_fn.\n",
      "WARNING:tensorflow:Layer dnn is casting an input tensor from dtype float64 to the layer's dtype of float32, which is new behavior in TensorFlow 2.  The layer has dtype float32 because it's dtype defaults to floatx.\n",
      "\n",
      "If you intended to run this layer in float32, you can safely ignore this warning. If in doubt, this warning is likely only an issue if you are porting a TensorFlow 1.X model to TensorFlow 2.\n",
      "\n",
      "To change all layers to have dtype float64 by default, call `tf.keras.backend.set_floatx('float64')`. To change just this layer, pass dtype='float64' to the layer constructor. If you are the author of this layer, you can disable autocasting by passing autocast=False to the base Layer constructor.\n",
      "\n",
      "INFO:tensorflow:Done calling model_fn.\n",
      "INFO:tensorflow:Create CheckpointSaverHook.\n",
      "INFO:tensorflow:Graph was finalized.\n",
      "INFO:tensorflow:Restoring parameters from /home/alberto/tempfiles/tmp7ghcqsy3/model.ckpt-500\n",
      "WARNING:tensorflow:From /home/alberto/xgb/lib/python3.8/site-packages/tensorflow/python/training/saver.py:1077: get_checkpoint_mtimes (from tensorflow.python.training.checkpoint_management) is deprecated and will be removed in a future version.\n",
      "Instructions for updating:\n",
      "Use standard file utilities to get mtimes.\n",
      "INFO:tensorflow:Running local_init_op.\n",
      "INFO:tensorflow:Done running local_init_op.\n",
      "INFO:tensorflow:Calling checkpoint listeners before saving checkpoint 500...\n",
      "INFO:tensorflow:Saving checkpoints for 500 into /home/alberto/tempfiles/tmp7ghcqsy3/model.ckpt.\n",
      "INFO:tensorflow:Calling checkpoint listeners after saving checkpoint 500...\n",
      "INFO:tensorflow:loss = 0.4608243, step = 500\n",
      "INFO:tensorflow:global_step/sec: 267.816\n",
      "INFO:tensorflow:loss = 0.38891324, step = 600 (0.374 sec)\n",
      "INFO:tensorflow:global_step/sec: 319.212\n",
      "INFO:tensorflow:loss = 0.4883661, step = 700 (0.313 sec)\n",
      "INFO:tensorflow:global_step/sec: 291.338\n",
      "INFO:tensorflow:loss = 0.41525137, step = 800 (0.347 sec)\n",
      "INFO:tensorflow:global_step/sec: 275.722\n",
      "INFO:tensorflow:loss = 0.35167217, step = 900 (0.362 sec)\n",
      "INFO:tensorflow:Calling checkpoint listeners before saving checkpoint 1000...\n",
      "INFO:tensorflow:Saving checkpoints for 1000 into /home/alberto/tempfiles/tmp7ghcqsy3/model.ckpt.\n",
      "INFO:tensorflow:Calling checkpoint listeners after saving checkpoint 1000...\n",
      "INFO:tensorflow:Loss for final step: 0.31865233.\n"
     ]
    },
    {
     "data": {
      "text/plain": [
       "<tensorflow_estimator.python.estimator.canned.dnn.DNNClassifierV2 at 0x7f4bc0087b50>"
      ]
     },
     "execution_count": 54,
     "metadata": {},
     "output_type": "execute_result"
    }
   ],
   "source": [
    "dnnmodel.train(input_fn=train_input_fn, steps=500)"
   ]
  },
  {
   "cell_type": "code",
   "execution_count": 55,
   "metadata": {},
   "outputs": [
    {
     "name": "stdout",
     "output_type": "stream",
     "text": [
      "INFO:tensorflow:Calling model_fn.\n",
      "WARNING:tensorflow:Layer dnn is casting an input tensor from dtype float64 to the layer's dtype of float32, which is new behavior in TensorFlow 2.  The layer has dtype float32 because it's dtype defaults to floatx.\n",
      "\n",
      "If you intended to run this layer in float32, you can safely ignore this warning. If in doubt, this warning is likely only an issue if you are porting a TensorFlow 1.X model to TensorFlow 2.\n",
      "\n",
      "To change all layers to have dtype float64 by default, call `tf.keras.backend.set_floatx('float64')`. To change just this layer, pass dtype='float64' to the layer constructor. If you are the author of this layer, you can disable autocasting by passing autocast=False to the base Layer constructor.\n",
      "\n",
      "INFO:tensorflow:Done calling model_fn.\n",
      "INFO:tensorflow:Starting evaluation at 2020-05-28T19:19:12Z\n",
      "INFO:tensorflow:Graph was finalized.\n",
      "INFO:tensorflow:Restoring parameters from /home/alberto/tempfiles/tmp7ghcqsy3/model.ckpt-1000\n",
      "INFO:tensorflow:Running local_init_op.\n",
      "INFO:tensorflow:Done running local_init_op.\n",
      "INFO:tensorflow:Inference Time : 0.65823s\n",
      "INFO:tensorflow:Finished evaluation at 2020-05-28-19:19:12\n",
      "INFO:tensorflow:Saving dict for global step 1000: accuracy = 0.7246377, accuracy_baseline = 1.0, auc = 0.0, auc_precision_recall = 1.0, average_loss = 0.57872814, global_step = 1000, label/mean = 1.0, loss = 0.57872814, precision = 1.0, prediction/mean = 0.6793195, recall = 0.7246377\n",
      "INFO:tensorflow:Saving 'checkpoint_path' summary for global step 1000: /home/alberto/tempfiles/tmp7ghcqsy3/model.ckpt-1000\n",
      "\n",
      "Test accuracy: 72.463769%\n",
      "\n"
     ]
    }
   ],
   "source": [
    "accuracy_score = dnnmodel.evaluate(input_fn=test_alive_fn)[\"accuracy\"]\n",
    "print(\"\\nTest accuracy: {0:f}%\\n\".format(accuracy_score*100))"
   ]
  },
  {
   "cell_type": "code",
   "execution_count": 57,
   "metadata": {},
   "outputs": [
    {
     "name": "stdout",
     "output_type": "stream",
     "text": [
      "INFO:tensorflow:Calling model_fn.\n",
      "WARNING:tensorflow:Layer dnn is casting an input tensor from dtype float64 to the layer's dtype of float32, which is new behavior in TensorFlow 2.  The layer has dtype float32 because it's dtype defaults to floatx.\n",
      "\n",
      "If you intended to run this layer in float32, you can safely ignore this warning. If in doubt, this warning is likely only an issue if you are porting a TensorFlow 1.X model to TensorFlow 2.\n",
      "\n",
      "To change all layers to have dtype float64 by default, call `tf.keras.backend.set_floatx('float64')`. To change just this layer, pass dtype='float64' to the layer constructor. If you are the author of this layer, you can disable autocasting by passing autocast=False to the base Layer constructor.\n",
      "\n",
      "INFO:tensorflow:Done calling model_fn.\n",
      "INFO:tensorflow:Graph was finalized.\n",
      "INFO:tensorflow:Restoring parameters from /home/alberto/tempfiles/tmp7ghcqsy3/model.ckpt-1000\n",
      "INFO:tensorflow:Running local_init_op.\n",
      "INFO:tensorflow:Done running local_init_op.\n",
      "Prediction \tYOU DIED (87.1526837348938 %) \n",
      "Prediction \tYOU LIVED (59.64033007621765 %) \n",
      "Prediction \tYOU LIVED (72.28158116340637 %) \n",
      "Prediction \tYOU DIED (68.8311517238617 %) \n",
      "Prediction \tYOU DIED (68.18563342094421 %) \n",
      "Prediction \tYOU LIVED (99.34172630310059 %) \n",
      "Prediction \tYOU LIVED (93.2388186454773 %) \n",
      "Prediction \tYOU LIVED (82.44185447692871 %) \n",
      "Prediction \tYOU LIVED (89.676433801651 %) \n",
      "Prediction \tYOU DIED (90.53956270217896 %) \n",
      "Prediction \tYOU LIVED (63.066303730010986 %) \n",
      "Prediction \tYOU LIVED (97.75845408439636 %) \n",
      "Prediction \tYOU LIVED (93.77112984657288 %) \n",
      "Prediction \tYOU LIVED (78.04591655731201 %) \n",
      "Prediction \tYOU LIVED (78.42349410057068 %) \n",
      "Prediction \tYOU LIVED (89.88938927650452 %) \n",
      "Prediction \tYOU LIVED (81.53066635131836 %) \n",
      "Prediction \tYOU LIVED (66.05538129806519 %) \n",
      "Prediction \tYOU DIED (50.638967752456665 %) \n",
      "Prediction \tYOU LIVED (91.40042066574097 %) \n",
      "Prediction \tYOU LIVED (99.54969882965088 %) \n",
      "Prediction \tYOU LIVED (76.08522772789001 %) \n",
      "Prediction \tYOU DIED (76.31635069847107 %) \n",
      "Prediction \tYOU LIVED (93.36667060852051 %) \n",
      "Prediction \tYOU LIVED (82.92028903961182 %) \n",
      "Prediction \tYOU LIVED (80.08308410644531 %) \n",
      "Prediction \tYOU LIVED (63.19648027420044 %) \n",
      "Prediction \tYOU LIVED (96.35688662528992 %) \n",
      "Prediction \tYOU LIVED (62.18857169151306 %) \n",
      "Prediction \tYOU DIED (78.22599411010742 %) \n",
      "Prediction \tYOU DIED (89.73274230957031 %) \n",
      "Prediction \tYOU DIED (77.45624780654907 %) \n",
      "Prediction \tYOU DIED (90.79458713531494 %) \n",
      "Prediction \tYOU LIVED (86.90805435180664 %) \n",
      "Prediction \tYOU LIVED (67.68413782119751 %) \n",
      "Prediction \tYOU DIED (90.09625315666199 %) \n",
      "Prediction \tYOU LIVED (75.31337141990662 %) \n",
      "Prediction \tYOU LIVED (93.48066449165344 %) \n",
      "Prediction \tYOU LIVED (92.86336898803711 %) \n",
      "Prediction \tYOU LIVED (94.79260444641113 %) \n",
      "Prediction \tYOU LIVED (85.25502681732178 %) \n",
      "Prediction \tYOU LIVED (96.99936509132385 %) \n",
      "Prediction \tYOU LIVED (92.36389398574829 %) \n",
      "Prediction \tYOU LIVED (91.85888767242432 %) \n",
      "Prediction \tYOU DIED (72.96432852745056 %) \n",
      "Prediction \tYOU DIED (75.29473304748535 %) \n",
      "Prediction \tYOU LIVED (93.97307634353638 %) \n",
      "Prediction \tYOU LIVED (73.20860624313354 %) \n",
      "Prediction \tYOU LIVED (71.42101526260376 %) \n",
      "Prediction \tYOU DIED (90.16551375389099 %) \n",
      "Prediction \tYOU LIVED (93.20490956306458 %) \n",
      "Prediction \tYOU LIVED (88.0078136920929 %) \n",
      "Prediction \tYOU LIVED (96.2811291217804 %) \n",
      "Prediction \tYOU LIVED (85.61626672744751 %) \n",
      "Prediction \tYOU DIED (67.87890195846558 %) \n",
      "Prediction \tYOU LIVED (85.5680763721466 %) \n",
      "Prediction \tYOU LIVED (97.25526571273804 %) \n",
      "Prediction \tYOU LIVED (99.10751581192017 %) \n",
      "Prediction \tYOU DIED (64.49135541915894 %) \n",
      "Prediction \tYOU DIED (88.7506365776062 %) \n",
      "Prediction \tYOU LIVED (78.20212841033936 %) \n",
      "Prediction \tYOU DIED (89.81241583824158 %) \n",
      "Prediction \tYOU LIVED (65.88047742843628 %) \n",
      "Prediction \tYOU LIVED (99.64973330497742 %) \n",
      "Prediction \tYOU LIVED (98.99486303329468 %) \n",
      "Prediction \tYOU DIED (62.912118434906006 %) \n",
      "Prediction \tYOU LIVED (84.27731394767761 %) \n",
      "Prediction \tYOU LIVED (94.29206848144531 %) \n",
      "Prediction \tYOU LIVED (94.77673172950745 %) \n"
     ]
    }
   ],
   "source": [
    "LABEL =['YOU DIED', 'YOU LIVED']\n",
    "listadnn = []\n",
    "predictions = dnnmodel.predict(input_fn=test_alive_fn)\n",
    "for i, predict in enumerate(predictions):\n",
    "    listadnn.append(predict['probabilities'][1])\n",
    "    label_ = predict['class_ids'][0]\n",
    "    probs = predict['probabilities'][label_]\n",
    "    print(f'Prediction \\t{LABEL[label_]} ({100*probs} %) ')"
   ]
  },
  {
   "cell_type": "code",
   "execution_count": 58,
   "metadata": {},
   "outputs": [
    {
     "name": "stdout",
     "output_type": "stream",
     "text": [
      "INFO:tensorflow:Calling model_fn.\n",
      "WARNING:tensorflow:Layer dnn is casting an input tensor from dtype float64 to the layer's dtype of float32, which is new behavior in TensorFlow 2.  The layer has dtype float32 because it's dtype defaults to floatx.\n",
      "\n",
      "If you intended to run this layer in float32, you can safely ignore this warning. If in doubt, this warning is likely only an issue if you are porting a TensorFlow 1.X model to TensorFlow 2.\n",
      "\n",
      "To change all layers to have dtype float64 by default, call `tf.keras.backend.set_floatx('float64')`. To change just this layer, pass dtype='float64' to the layer constructor. If you are the author of this layer, you can disable autocasting by passing autocast=False to the base Layer constructor.\n",
      "\n",
      "INFO:tensorflow:Done calling model_fn.\n",
      "INFO:tensorflow:Graph was finalized.\n",
      "INFO:tensorflow:Restoring parameters from /home/alberto/tempfiles/tmp7ghcqsy3/model.ckpt-1000\n",
      "INFO:tensorflow:Running local_init_op.\n",
      "INFO:tensorflow:Done running local_init_op.\n",
      "Prediction \tYOU DIED (91.07653498649597 %) \n",
      "Prediction \tYOU LIVED (58.32105278968811 %) \n",
      "Prediction \tYOU DIED (91.09519124031067 %) \n",
      "Prediction \tYOU DIED (91.30980372428894 %) \n",
      "Prediction \tYOU LIVED (99.55223798751831 %) \n",
      "Prediction \tYOU DIED (74.00957345962524 %) \n",
      "Prediction \tYOU DIED (81.69523477554321 %) \n",
      "Prediction \tYOU DIED (76.80334448814392 %) \n",
      "Prediction \tYOU DIED (90.16551375389099 %) \n",
      "Prediction \tYOU DIED (91.07653498649597 %) \n",
      "Prediction \tYOU DIED (90.57741165161133 %) \n",
      "Prediction \tYOU DIED (87.78216242790222 %) \n",
      "Prediction \tYOU DIED (72.62402772903442 %) \n",
      "Prediction \tYOU DIED (90.60661792755127 %) \n",
      "Prediction \tYOU DIED (90.9690797328949 %) \n",
      "Prediction \tYOU DIED (89.71798419952393 %) \n",
      "Prediction \tYOU DIED (75.63163638114929 %) \n",
      "Prediction \tYOU DIED (83.93304944038391 %) \n",
      "Prediction \tYOU DIED (90.55048823356628 %) \n",
      "Prediction \tYOU LIVED (71.67088389396667 %) \n",
      "Prediction \tYOU DIED (88.33160400390625 %) \n",
      "Prediction \tYOU DIED (88.17929029464722 %) \n",
      "Prediction \tYOU DIED (88.41261863708496 %) \n",
      "Prediction \tYOU DIED (99.78072047233582 %) \n",
      "Prediction \tYOU DIED (87.77040243148804 %) \n",
      "Prediction \tYOU DIED (86.57916188240051 %) \n",
      "Prediction \tYOU DIED (90.49787521362305 %) \n",
      "Prediction \tYOU DIED (86.28438115119934 %) \n",
      "Prediction \tYOU DIED (90.55048823356628 %) \n",
      "Prediction \tYOU LIVED (66.50247573852539 %) \n",
      "Prediction \tYOU LIVED (63.38493227958679 %) \n",
      "Prediction \tYOU DIED (90.65715670585632 %) \n",
      "Prediction \tYOU DIED (92.16842651367188 %) \n",
      "Prediction \tYOU DIED (95.63589692115784 %) \n",
      "Prediction \tYOU DIED (86.11130714416504 %) \n",
      "Prediction \tYOU DIED (88.81366848945618 %) \n",
      "Prediction \tYOU DIED (85.91125011444092 %) \n",
      "Prediction \tYOU DIED (79.55983281135559 %) \n",
      "Prediction \tYOU DIED (84.26719307899475 %) \n",
      "Prediction \tYOU DIED (65.6223475933075 %) \n",
      "Prediction \tYOU DIED (90.63429236412048 %) \n",
      "Prediction \tYOU DIED (60.38388013839722 %) \n",
      "Prediction \tYOU DIED (97.15206027030945 %) \n",
      "Prediction \tYOU LIVED (66.57664179801941 %) \n",
      "Prediction \tYOU DIED (67.46137142181396 %) \n",
      "Prediction \tYOU DIED (84.9372386932373 %) \n",
      "Prediction \tYOU DIED (82.46687650680542 %) \n",
      "Prediction \tYOU DIED (91.26949906349182 %) \n",
      "Prediction \tYOU DIED (92.18600988388062 %) \n",
      "Prediction \tYOU LIVED (56.30689859390259 %) \n",
      "Prediction \tYOU LIVED (68.81569027900696 %) \n",
      "Prediction \tYOU DIED (85.9834372997284 %) \n",
      "Prediction \tYOU DIED (99.43785071372986 %) \n",
      "Prediction \tYOU DIED (59.83768701553345 %) \n",
      "Prediction \tYOU DIED (62.25203275680542 %) \n",
      "Prediction \tYOU DIED (70.65077424049377 %) \n",
      "Prediction \tYOU DIED (90.10083079338074 %) \n",
      "Prediction \tYOU DIED (86.56529188156128 %) \n",
      "Prediction \tYOU DIED (96.09735608100891 %) \n",
      "Prediction \tYOU DIED (69.27764415740967 %) \n",
      "Prediction \tYOU DIED (77.91783213615417 %) \n",
      "Prediction \tYOU DIED (50.81568956375122 %) \n",
      "Prediction \tYOU DIED (90.77997207641602 %) \n",
      "Prediction \tYOU DIED (91.19270443916321 %) \n",
      "Prediction \tYOU DIED (84.97024178504944 %) \n",
      "Prediction \tYOU DIED (90.58861136436462 %) \n",
      "Prediction \tYOU DIED (89.61666226387024 %) \n",
      "Prediction \tYOU DIED (90.09454250335693 %) \n",
      "Prediction \tYOU DIED (76.42338871955872 %) \n",
      "Prediction \tYOU DIED (85.91445088386536 %) \n",
      "Prediction \tYOU DIED (92.98787117004395 %) \n",
      "Prediction \tYOU DIED (95.38516998291016 %) \n",
      "Prediction \tYOU DIED (82.69397020339966 %) \n",
      "Prediction \tYOU DIED (88.9943540096283 %) \n",
      "Prediction \tYOU DIED (85.87141036987305 %) \n",
      "Prediction \tYOU DIED (61.8634819984436 %) \n",
      "Prediction \tYOU DIED (90.08504152297974 %) \n",
      "Prediction \tYOU DIED (88.10287714004517 %) \n",
      "Prediction \tYOU DIED (87.31604814529419 %) \n",
      "Prediction \tYOU DIED (60.47314405441284 %) \n",
      "Prediction \tYOU DIED (87.15252876281738 %) \n",
      "Prediction \tYOU DIED (88.81602883338928 %) \n",
      "Prediction \tYOU DIED (91.34913086891174 %) \n",
      "Prediction \tYOU LIVED (55.356210470199585 %) \n",
      "Prediction \tYOU LIVED (87.87955641746521 %) \n",
      "Prediction \tYOU DIED (65.98038673400879 %) \n",
      "Prediction \tYOU DIED (90.09771347045898 %) \n",
      "Prediction \tYOU DIED (68.21354031562805 %) \n",
      "Prediction \tYOU DIED (86.46971583366394 %) \n",
      "Prediction \tYOU DIED (97.9848563671112 %) \n",
      "Prediction \tYOU DIED (82.46687650680542 %) \n",
      "Prediction \tYOU DIED (88.30840587615967 %) \n",
      "Prediction \tYOU DIED (90.99270105361938 %) \n",
      "Prediction \tYOU LIVED (64.54480290412903 %) \n",
      "Prediction \tYOU DIED (87.40035891532898 %) \n",
      "Prediction \tYOU DIED (90.79458713531494 %) \n",
      "Prediction \tYOU DIED (84.90302562713623 %) \n",
      "Prediction \tYOU DIED (99.99319314956665 %) \n",
      "Prediction \tYOU DIED (56.349629163742065 %) \n",
      "Prediction \tYOU DIED (91.59457683563232 %) \n",
      "Prediction \tYOU DIED (91.11084342002869 %) \n",
      "Prediction \tYOU DIED (87.15252876281738 %) \n",
      "Prediction \tYOU DIED (85.75654029846191 %) \n",
      "Prediction \tYOU DIED (73.89867901802063 %) \n",
      "Prediction \tYOU LIVED (67.74559020996094 %) \n",
      "Prediction \tYOU LIVED (72.26653695106506 %) \n",
      "Prediction \tYOU DIED (77.30622291564941 %) \n",
      "Prediction \tYOU LIVED (50.099337100982666 %) \n",
      "Prediction \tYOU DIED (89.71797227859497 %) \n",
      "Prediction \tYOU DIED (64.62100744247437 %) \n"
     ]
    }
   ],
   "source": [
    "LABEL =['YOU DIED', 'YOU LIVED']\n",
    "listadnn2 = []\n",
    "predictions2 = dnnmodel.predict(input_fn=test_dead_fn)\n",
    "for i, predict in enumerate(predictions2):\n",
    "    listadnn2.append(predict['probabilities'][1])\n",
    "    label_ = predict['class_ids'][0]\n",
    "    probs = predict['probabilities'][label_]\n",
    "    print(f'Prediction \\t{LABEL[label_]} ({100*probs} %) ')"
   ]
  },
  {
   "cell_type": "code",
   "execution_count": 60,
   "metadata": {},
   "outputs": [
    {
     "data": {
      "text/plain": [
       "Text(0.5, 1.0, 'Results using a DNN')"
      ]
     },
     "execution_count": 60,
     "metadata": {},
     "output_type": "execute_result"
    },
    {
     "data": {
      "image/png": "[encoded data removed]",
      "text/plain": [
       "<Figure size 432x288 with 1 Axes>"
      ]
     },
     "metadata": {
      "needs_background": "light"
     },
     "output_type": "display_data"
    }
   ],
   "source": [
    "plt.hist(listadnn, range=(0,1), alpha=0.8,label='Alive')\n",
    "plt.hist(listadnn2, range=(0,1), alpha=0.8, label='Dead')\n",
    "plt.legend(loc='upper right')\n",
    "plt.xlabel('Probability of being alive')\n",
    "plt.ylabel('Events')\n",
    "plt.title('Results using a DNN')"
   ]
  },
  {
   "cell_type": "code",
   "execution_count": 62,
   "metadata": {},
   "outputs": [
    {
     "data": {
      "image/png": "[encoded data removed]",
      "text/plain": [
       "<Figure size 432x288 with 1 Axes>"
      ]
     },
     "metadata": {
      "needs_background": "light"
     },
     "output_type": "display_data"
    }
   ],
   "source": [
    "#CREEMOS DATOS ALEADORIOS Y ORDENEMOLOS DE MENOR A MAYOR\n",
    "\n",
    "listadnn = sorted(listadnn)\n",
    "listadnn2 = sorted(listadnn2)\n",
    "\n",
    "#LISTAS DONDE SE GUARDARAN LOS VALORES DE EFICIENCIA Y BACK_REJECTION\n",
    "eficiency0 = []\n",
    "background_rejection0 = []\n",
    "\n",
    "#ITERAMOS SOBRE UN FLOAT QUE VA DE 0 A 100 EN 1000 PASOS\n",
    "for cut in np.linspace(0,1, 50):\n",
    "    \n",
    "    #INICIALIZAMOS EL VALOR DE VIVOS ACEPTADOS Y MUERTOS RECHAZADOS\n",
    "    #PUES EN EL CORTE = 0 ACEPTAMOS TODOS LOS 1s Y RECHAZAMOS TODOS LOS 0s\n",
    "    vivos_aceptados = len(listadnn)\n",
    "    muertos_rechazados = 0\n",
    "\n",
    "\n",
    "    for i, v in enumerate(listadnn):\n",
    "        # YA QUE LAS LISTAS ESTAN ORDENADAS BASTA CON CHECAR EL PRIMER VALOR QUE \n",
    "        # SEA MAYOR QUE EL CORTE\n",
    "        if cut<=v:\n",
    "            vivos_aceptados-=i\n",
    "            break\n",
    "        #EN EL CASO DE QUE EL CORTE SEA MAYOR QUE TODAS LAS PROBS CONSIDERA QUE \n",
    "        # NINGUN VIVO FUE ACEPTADO\n",
    "        if i==len(listadnn)-1:\n",
    "            vivos_aceptados=0\n",
    "\n",
    "    # ANALOGAMENTE PARA LOS MUERTOS        \n",
    "    for i, m in enumerate(listadnn2):\n",
    "        if cut<=m:\n",
    "            muertos_rechazados+=i\n",
    "            break\n",
    "        if i==len(listadnn2)-1:\n",
    "            muertos_rechazados=len(listadnn2)\n",
    "    \n",
    "    #ALMACENA EN LA LISTA\n",
    "    eficiency0.append(vivos_aceptados/len(listadnn))\n",
    "    background_rejection0.append(muertos_rechazados/len(listadnn2))\n",
    "\n",
    "    neural = plt.plot(eficiency0, background_rejection0)\n",
    "    plt.xlabel('Signal efficiency')\n",
    "    plt.ylabel('Background rejection')\n",
    "    plt.title('DNN ROC curve')"
   ]
  },
  {
   "cell_type": "code",
   "execution_count": 63,
   "metadata": {},
   "outputs": [
    {
     "data": {
      "text/plain": [
       "Text(0.5, 1.0, 'XGB vs TF-DNN')"
      ]
     },
     "execution_count": 63,
     "metadata": {},
     "output_type": "execute_result"
    },
    {
     "data": {
      "image/png": "[encoded data removed]",
      "text/plain": [
       "<Figure size 432x288 with 1 Axes>"
      ]
     },
     "metadata": {
      "needs_background": "light"
     },
     "output_type": "display_data"
    }
   ],
   "source": [
    "xgbst = plt.plot(eficiency, background_rejection, label = 'XGB')\n",
    "neural = plt.plot(eficiency0, background_rejection0, label = 'DNN')\n",
    "plt.legend(loc='lower left')\n",
    "plt.xlabel('Signal efficiency')\n",
    "plt.ylabel('Background rejection')\n",
    "plt.title('XGB vs TF-DNN')"
   ]
  },
  {
   "cell_type": "code",
   "execution_count": 71,
   "metadata": {},
   "outputs": [
    {
     "data": {
      "text/plain": [
       "Text(0.5, 1.0, 'BDT vs DNN')"
      ]
     },
     "execution_count": 71,
     "metadata": {},
     "output_type": "execute_result"
    },
    {
     "data": {
      "image/png": "[encoded data removed]",
      "text/plain": [
       "<Figure size 432x288 with 1 Axes>"
      ]
     },
     "metadata": {
      "needs_background": "light"
     },
     "output_type": "display_data"
    }
   ],
   "source": [
    "arbol = plt.plot(eficiency2, background_rejection2, label = 'BDT')\n",
    "neural = plt.plot(eficiency0, background_rejection0, label = 'DNN')\n",
    "plt.legend(loc='lower left')\n",
    "plt.xlabel('Signal efficiency')\n",
    "plt.ylabel('Background rejection')\n",
    "plt.title('BDT vs DNN')"
   ]
  },
  {
   "cell_type": "code",
   "execution_count": 72,
   "metadata": {},
   "outputs": [
    {
     "data": {
      "image/png": "[encoded data removed]",
      "text/plain": [
       "<Figure size 432x288 with 1 Axes>"
      ]
     },
     "metadata": {
      "needs_background": "light"
     },
     "output_type": "display_data"
    }
   ],
   "source": [
    "xgbst = plt.plot(eficiency, background_rejection, label='XGB')\n",
    "arbol = plt.plot(eficiency2, background_rejection2, label = 'BDT')\n",
    "neural = plt.plot(eficiency0, background_rejection0, label = 'DNN')\n",
    "plt.legend(loc='lower left')\n",
    "plt.xlabel('Signal efficiency')\n",
    "plt.ylabel('Background rejection')\n",
    "plt.title('Model comparison (ROC curve)')\n",
    "plt.show()"
   ]
  },
  {
   "cell_type": "code",
   "execution_count": null,
   "metadata": {},
   "outputs": [],
   "source": []
  }
 ],
 "metadata": {
  "kernelspec": {
   "display_name": "xgb",
   "language": "python",
   "name": "xgb"
  },
  "language_info": {
   "codemirror_mode": {
    "name": "ipython",
    "version": 3
   },
   "file_extension": ".py",
   "mimetype": "text/x-python",
   "name": "python",
   "nbconvert_exporter": "python",
   "pygments_lexer": "ipython3",
   "version": "3.8.2"
  }
 },
 "nbformat": 4,
 "nbformat_minor": 4
}
