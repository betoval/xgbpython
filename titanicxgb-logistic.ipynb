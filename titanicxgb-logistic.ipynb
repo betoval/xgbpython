{
 "cells": [
  {
   "cell_type": "code",
   "execution_count": 138,
   "metadata": {},
   "outputs": [],
   "source": [
    "import xgboost as xgb\n",
    "import numpy as np\n",
    "import pandas as pd\n",
    "import matplotlib.pyplot as plt\n",
    "from sklearn.model_selection import train_test_split\n",
    "from sklearn.metrics import accuracy_score\n",
    "from sklearn.preprocessing import LabelEncoder\n",
    "\n",
    "train = pd.read_csv(\"train.csv\")\n",
    "test = pd.read_csv(\"test.csv\")"
   ]
  },
  {
   "cell_type": "code",
   "execution_count": 139,
   "metadata": {},
   "outputs": [
    {
     "name": "stdout",
     "output_type": "stream",
     "text": [
      "<class 'pandas.core.frame.DataFrame'>\n",
      "RangeIndex: 891 entries, 0 to 890\n",
      "Data columns (total 12 columns):\n",
      " #   Column       Non-Null Count  Dtype  \n",
      "---  ------       --------------  -----  \n",
      " 0   PassengerId  891 non-null    int64  \n",
      " 1   Survived     891 non-null    int64  \n",
      " 2   Pclass       891 non-null    int64  \n",
      " 3   Name         891 non-null    object \n",
      " 4   Sex          891 non-null    object \n",
      " 5   Age          714 non-null    float64\n",
      " 6   SibSp        891 non-null    int64  \n",
      " 7   Parch        891 non-null    int64  \n",
      " 8   Ticket       891 non-null    object \n",
      " 9   Fare         891 non-null    float64\n",
      " 10  Cabin        204 non-null    object \n",
      " 11  Embarked     889 non-null    object \n",
      "dtypes: float64(2), int64(5), object(5)\n",
      "memory usage: 83.7+ KB\n"
     ]
    }
   ],
   "source": [
    "train.info()"
   ]
  },
  {
   "cell_type": "code",
   "execution_count": 140,
   "metadata": {},
   "outputs": [
    {
     "name": "stdout",
     "output_type": "stream",
     "text": [
      "<class 'pandas.core.frame.DataFrame'>\n",
      "RangeIndex: 891 entries, 0 to 890\n",
      "Data columns (total 12 columns):\n",
      " #   Column       Non-Null Count  Dtype  \n",
      "---  ------       --------------  -----  \n",
      " 0   PassengerId  891 non-null    int64  \n",
      " 1   Survived     891 non-null    int64  \n",
      " 2   Pclass       891 non-null    int64  \n",
      " 3   Name         891 non-null    object \n",
      " 4   Sex          891 non-null    object \n",
      " 5   Age          891 non-null    float64\n",
      " 6   SibSp        891 non-null    int64  \n",
      " 7   Parch        891 non-null    int64  \n",
      " 8   Ticket       891 non-null    object \n",
      " 9   Fare         891 non-null    float64\n",
      " 10  Cabin        204 non-null    object \n",
      " 11  Embarked     891 non-null    object \n",
      "dtypes: float64(2), int64(5), object(5)\n",
      "memory usage: 83.7+ KB\n"
     ]
    }
   ],
   "source": [
    "#filling missing values\n",
    "train[\"Age\"] = train[\"Age\"].fillna(30)\n",
    "train[\"Embarked\"].fillna(\"S\", inplace=True)\n",
    "train.info()"
   ]
  },
  {
   "cell_type": "code",
   "execution_count": 141,
   "metadata": {},
   "outputs": [],
   "source": [
    "#transform non-numerical labels to numerical labels\n",
    "encoder = LabelEncoder()\n",
    "for col in ('Sex','Embarked'):\n",
    "    train['Sex'] = encoder.fit_transform(train['Sex'])\n",
    "    train['Embarked'] = encoder.fit_transform(train['Embarked'])"
   ]
  },
  {
   "cell_type": "code",
   "execution_count": 142,
   "metadata": {},
   "outputs": [
    {
     "name": "stdout",
     "output_type": "stream",
     "text": [
      "<class 'pandas.core.frame.DataFrame'>\n",
      "RangeIndex: 891 entries, 0 to 890\n",
      "Data columns (total 7 columns):\n",
      " #   Column    Non-Null Count  Dtype  \n",
      "---  ------    --------------  -----  \n",
      " 0   Pclass    891 non-null    int64  \n",
      " 1   Sex       891 non-null    int64  \n",
      " 2   Age       891 non-null    float64\n",
      " 3   SibSp     891 non-null    int64  \n",
      " 4   Parch     891 non-null    int64  \n",
      " 5   Fare      891 non-null    float64\n",
      " 6   Embarked  891 non-null    int64  \n",
      "dtypes: float64(2), int64(5)\n",
      "memory usage: 48.9 KB\n"
     ]
    }
   ],
   "source": [
    "#Features\n",
    "train_x = train.drop([\"PassengerId\",\"Name\",\"Ticket\",\"Cabin\",\"Survived\"], axis=1)\n",
    "#label\n",
    "train_y = train[\"Survived\"]\n",
    "train_x.info()"
   ]
  },
  {
   "cell_type": "code",
   "execution_count": 143,
   "metadata": {},
   "outputs": [],
   "source": [
    "#Choose only the data that contains survivors\n",
    "survived_label = train.groupby(['Survived'])\n",
    "alive = survived_label.get_group(1)"
   ]
  },
  {
   "cell_type": "code",
   "execution_count": 144,
   "metadata": {},
   "outputs": [],
   "source": [
    "#Choose only the data that contains dead people\n",
    "dead = survived_label.get_group(0)"
   ]
  },
  {
   "cell_type": "code",
   "execution_count": 145,
   "metadata": {},
   "outputs": [
    {
     "data": {
      "text/html": [
       "<div>\n",
       "<style scoped>\n",
       "    .dataframe tbody tr th:only-of-type {\n",
       "        vertical-align: middle;\n",
       "    }\n",
       "\n",
       "    .dataframe tbody tr th {\n",
       "        vertical-align: top;\n",
       "    }\n",
       "\n",
       "    .dataframe thead th {\n",
       "        text-align: right;\n",
       "    }\n",
       "</style>\n",
       "<table border=\"1\" class=\"dataframe\">\n",
       "  <thead>\n",
       "    <tr style=\"text-align: right;\">\n",
       "      <th></th>\n",
       "      <th>Pclass</th>\n",
       "      <th>Sex</th>\n",
       "      <th>Age</th>\n",
       "      <th>SibSp</th>\n",
       "      <th>Parch</th>\n",
       "      <th>Fare</th>\n",
       "      <th>Embarked</th>\n",
       "    </tr>\n",
       "  </thead>\n",
       "  <tbody>\n",
       "    <tr>\n",
       "      <th>1</th>\n",
       "      <td>1</td>\n",
       "      <td>0</td>\n",
       "      <td>38.0</td>\n",
       "      <td>1</td>\n",
       "      <td>0</td>\n",
       "      <td>71.2833</td>\n",
       "      <td>0</td>\n",
       "    </tr>\n",
       "    <tr>\n",
       "      <th>2</th>\n",
       "      <td>3</td>\n",
       "      <td>0</td>\n",
       "      <td>26.0</td>\n",
       "      <td>0</td>\n",
       "      <td>0</td>\n",
       "      <td>7.9250</td>\n",
       "      <td>2</td>\n",
       "    </tr>\n",
       "    <tr>\n",
       "      <th>3</th>\n",
       "      <td>1</td>\n",
       "      <td>0</td>\n",
       "      <td>35.0</td>\n",
       "      <td>1</td>\n",
       "      <td>0</td>\n",
       "      <td>53.1000</td>\n",
       "      <td>2</td>\n",
       "    </tr>\n",
       "    <tr>\n",
       "      <th>8</th>\n",
       "      <td>3</td>\n",
       "      <td>0</td>\n",
       "      <td>27.0</td>\n",
       "      <td>0</td>\n",
       "      <td>2</td>\n",
       "      <td>11.1333</td>\n",
       "      <td>2</td>\n",
       "    </tr>\n",
       "    <tr>\n",
       "      <th>9</th>\n",
       "      <td>2</td>\n",
       "      <td>0</td>\n",
       "      <td>14.0</td>\n",
       "      <td>1</td>\n",
       "      <td>0</td>\n",
       "      <td>30.0708</td>\n",
       "      <td>0</td>\n",
       "    </tr>\n",
       "  </tbody>\n",
       "</table>\n",
       "</div>"
      ],
      "text/plain": [
       "   Pclass  Sex   Age  SibSp  Parch     Fare  Embarked\n",
       "1       1    0  38.0      1      0  71.2833         0\n",
       "2       3    0  26.0      0      0   7.9250         2\n",
       "3       1    0  35.0      1      0  53.1000         2\n",
       "8       3    0  27.0      0      2  11.1333         2\n",
       "9       2    0  14.0      1      0  30.0708         0"
      ]
     },
     "execution_count": 145,
     "metadata": {},
     "output_type": "execute_result"
    }
   ],
   "source": [
    "#ALIVE\n",
    "#FEATURES\n",
    "alive_x = alive.drop([\"PassengerId\",\"Name\",\"Ticket\",\"Cabin\",\"Survived\"], axis=1)\n",
    "#label\n",
    "alive_y = alive[\"Survived\"]\n",
    "alive_x.head()"
   ]
  },
  {
   "cell_type": "code",
   "execution_count": 146,
   "metadata": {},
   "outputs": [
    {
     "data": {
      "text/html": [
       "<div>\n",
       "<style scoped>\n",
       "    .dataframe tbody tr th:only-of-type {\n",
       "        vertical-align: middle;\n",
       "    }\n",
       "\n",
       "    .dataframe tbody tr th {\n",
       "        vertical-align: top;\n",
       "    }\n",
       "\n",
       "    .dataframe thead th {\n",
       "        text-align: right;\n",
       "    }\n",
       "</style>\n",
       "<table border=\"1\" class=\"dataframe\">\n",
       "  <thead>\n",
       "    <tr style=\"text-align: right;\">\n",
       "      <th></th>\n",
       "      <th>Pclass</th>\n",
       "      <th>Sex</th>\n",
       "      <th>Age</th>\n",
       "      <th>SibSp</th>\n",
       "      <th>Parch</th>\n",
       "      <th>Fare</th>\n",
       "      <th>Embarked</th>\n",
       "    </tr>\n",
       "  </thead>\n",
       "  <tbody>\n",
       "    <tr>\n",
       "      <th>0</th>\n",
       "      <td>3</td>\n",
       "      <td>1</td>\n",
       "      <td>22.0</td>\n",
       "      <td>1</td>\n",
       "      <td>0</td>\n",
       "      <td>7.2500</td>\n",
       "      <td>2</td>\n",
       "    </tr>\n",
       "    <tr>\n",
       "      <th>4</th>\n",
       "      <td>3</td>\n",
       "      <td>1</td>\n",
       "      <td>35.0</td>\n",
       "      <td>0</td>\n",
       "      <td>0</td>\n",
       "      <td>8.0500</td>\n",
       "      <td>2</td>\n",
       "    </tr>\n",
       "    <tr>\n",
       "      <th>5</th>\n",
       "      <td>3</td>\n",
       "      <td>1</td>\n",
       "      <td>30.0</td>\n",
       "      <td>0</td>\n",
       "      <td>0</td>\n",
       "      <td>8.4583</td>\n",
       "      <td>1</td>\n",
       "    </tr>\n",
       "    <tr>\n",
       "      <th>6</th>\n",
       "      <td>1</td>\n",
       "      <td>1</td>\n",
       "      <td>54.0</td>\n",
       "      <td>0</td>\n",
       "      <td>0</td>\n",
       "      <td>51.8625</td>\n",
       "      <td>2</td>\n",
       "    </tr>\n",
       "    <tr>\n",
       "      <th>7</th>\n",
       "      <td>3</td>\n",
       "      <td>1</td>\n",
       "      <td>2.0</td>\n",
       "      <td>3</td>\n",
       "      <td>1</td>\n",
       "      <td>21.0750</td>\n",
       "      <td>2</td>\n",
       "    </tr>\n",
       "  </tbody>\n",
       "</table>\n",
       "</div>"
      ],
      "text/plain": [
       "   Pclass  Sex   Age  SibSp  Parch     Fare  Embarked\n",
       "0       3    1  22.0      1      0   7.2500         2\n",
       "4       3    1  35.0      0      0   8.0500         2\n",
       "5       3    1  30.0      0      0   8.4583         1\n",
       "6       1    1  54.0      0      0  51.8625         2\n",
       "7       3    1   2.0      3      1  21.0750         2"
      ]
     },
     "execution_count": 146,
     "metadata": {},
     "output_type": "execute_result"
    }
   ],
   "source": [
    "#DEAD\n",
    "#FEATURES\n",
    "dead_x = dead.drop([\"PassengerId\",\"Name\",\"Ticket\",\"Cabin\",\"Survived\"], axis=1)\n",
    "#label\n",
    "dead_y = dead[\"Survived\"]\n",
    "dead_x.head()"
   ]
  },
  {
   "cell_type": "code",
   "execution_count": 147,
   "metadata": {},
   "outputs": [],
   "source": [
    "#Sampling the data 80% train 20% test\n",
    "#GENERAL\n",
    "train_x, test_x, train_y, test_y = train_test_split(train_x, train_y, \n",
    "                                                  test_size=0.2, \n",
    "                                                  random_state=1)\n",
    "\n",
    "#ALIVE\n",
    "train_alive_x, test_alive_x, train_alive_y, test_alive_y = train_test_split(alive_x, alive_y, \n",
    "                                                  test_size=0.2, \n",
    "                                                  random_state=1)\n",
    "#DEAD\n",
    "train_dead_x, test_dead_x, train_dead_y, test_dead_y = train_test_split(dead_x, dead_y, \n",
    "                                                  test_size=0.2, \n",
    "                                                  random_state=1)"
   ]
  },
  {
   "cell_type": "markdown",
   "metadata": {},
   "source": [
    "**Python API**"
   ]
  },
  {
   "cell_type": "markdown",
   "metadata": {},
   "source": [
    "We need to convert the data into DMatrix. This is only necessary for the bare python api. The Following 4 (four) cells are an attempt to use this method. Unfortunately, as we will see, problems will arise. We will end up using the scikit-learn api."
   ]
  },
  {
   "cell_type": "code",
   "execution_count": 148,
   "metadata": {},
   "outputs": [],
   "source": [
    "#Converting to DMatrix\n",
    "#GENERAL\n",
    "d_train = xgb.DMatrix(train_x, train_y)\n",
    "d_test = xgb.DMatrix(test_x, test_y)\n",
    "#ALIVE\n",
    "d_train_alive = xgb.DMatrix(train_alive_x, train_alive_y)\n",
    "d_test_alive = xgb.DMatrix(test_alive_x, test_alive_y)\n",
    "#DEAD\n",
    "d_train_dead = xgb.DMatrix(train_dead_x, train_dead_y)\n",
    "d_test_dead = xgb.DMatrix(test_dead_x, test_dead_y)"
   ]
  },
  {
   "cell_type": "code",
   "execution_count": 149,
   "metadata": {},
   "outputs": [],
   "source": [
    "param = {\n",
    "    'booster':'gbtree',\n",
    "    'eta':0.3, #prevents overfitting\n",
    "    'max_depth':3, #maximum depth of tree\n",
    "    'objective':'binary:hinge',\n",
    "    'rate_drop':0.1,\n",
    "    'n_estimators':500\n",
    "}\n",
    "\n",
    "steṕs = 20"
   ]
  },
  {
   "cell_type": "code",
   "execution_count": 150,
   "metadata": {},
   "outputs": [
    {
     "name": "stdout",
     "output_type": "stream",
     "text": [
      "[12:27:03] WARNING: /workspace/src/learner.cc:480: \n",
      "Parameters: { n_estimators, rate_drop } might not be used.\n",
      "\n",
      "  This may not be accurate due to some parameters are only used in language bindings but\n",
      "  passed down to XGBoost core.  Or some parameters are not used but slip through this\n",
      "  verification. Please open an issue if you find above cases.\n",
      "\n",
      "\n"
     ]
    }
   ],
   "source": [
    "model = xgb.train(param, d_train, steṕs)"
   ]
  },
  {
   "cell_type": "code",
   "execution_count": 151,
   "metadata": {},
   "outputs": [
    {
     "name": "stdout",
     "output_type": "stream",
     "text": [
      "76.81 %\n"
     ]
    }
   ],
   "source": [
    "#predictions alive\n",
    "predictions = model.predict(d_test_alive)\n",
    "#print accuracy\n",
    "print(np.round(accuracy_score(test_alive_y,predictions)*100, 2),'%')"
   ]
  },
  {
   "cell_type": "markdown",
   "metadata": {},
   "source": [
    "I couldn't figure out how to obtain the probabilities. I tried to use the code we implemented in tensorflow but i kept getting an error.\n",
    "\n",
    "Below, I use the XGB scikt-learn api. It seems to work well!"
   ]
  },
  {
   "cell_type": "markdown",
   "metadata": {},
   "source": [
    "**XGB Classifier (scikit-learn API)**"
   ]
  },
  {
   "cell_type": "code",
   "execution_count": 152,
   "metadata": {},
   "outputs": [
    {
     "name": "stdout",
     "output_type": "stream",
     "text": [
      "88.41 %\n",
      "\n",
      "Predictions [0 1 1 1 1 1 1 1 1 0 1 1 1 1 1 1 1 1 1 1 1 1 0 1 1 1 1 1 1 1 1 1 1 1 1 0 1\n",
      " 1 1 1 1 1 1 1 1 0 1 1 1 0 1 1 1 1 0 1 1 1 1 0 1 1 1 1 1 1 1 1 1]\n"
     ]
    }
   ],
   "source": [
    "#XGBClassifier scikit-learn API \n",
    "model = xgb.XGBClassifier(objective = 'binary:logistic', max_depth = 6, learning_rate=0.3)\n",
    "#fit = training\n",
    "model.fit(train_x, train_y)\n",
    "#predictions\n",
    "predict_alive = model.predict(test_alive_x)\n",
    "print(np.round(accuracy_score(test_alive_y,predict_alive)*100, 2),'%')\n",
    "print('\\nPredictions', predict_alive)"
   ]
  },
  {
   "cell_type": "code",
   "execution_count": 153,
   "metadata": {},
   "outputs": [],
   "source": [
    "predict_prob = model.predict_proba(test_alive_x)"
   ]
  },
  {
   "cell_type": "code",
   "execution_count": 154,
   "metadata": {},
   "outputs": [],
   "source": [
    "#converting prob values to list\n",
    "df_prob = pd.DataFrame(predict_prob)\n",
    "s_prob_alive = df_prob[df_prob.columns[1]] \n",
    "list_prob_alive = s_prob_alive.values.tolist()"
   ]
  },
  {
   "cell_type": "code",
   "execution_count": 155,
   "metadata": {},
   "outputs": [
    {
     "data": {
      "image/png": "[encoded data removed]",
      "text/plain": [
       "<Figure size 432x288 with 1 Axes>"
      ]
     },
     "metadata": {
      "needs_background": "light"
     },
     "output_type": "display_data"
    }
   ],
   "source": [
    "hist_alive = plt.hist(list_prob_alive, range=(0,1))"
   ]
  },
  {
   "cell_type": "code",
   "execution_count": 156,
   "metadata": {},
   "outputs": [],
   "source": [
    "#converting prob values to list\n",
    "predict_dead = model.predict(test_dead_x)\n",
    "predict_prob_dead = model.predict_proba(test_dead_x)\n",
    "df_prob_dead = pd.DataFrame(predict_prob_dead)\n",
    "s_prob_dead = df_prob_dead[df_prob_dead.columns[1]] \n",
    "list_prob_dead = s_prob_dead.values.tolist()"
   ]
  },
  {
   "cell_type": "code",
   "execution_count": 157,
   "metadata": {},
   "outputs": [
    {
     "data": {
      "image/png": "[encoded data removed]",
      "text/plain": [
       "<Figure size 432x288 with 1 Axes>"
      ]
     },
     "metadata": {
      "needs_background": "light"
     },
     "output_type": "display_data"
    }
   ],
   "source": [
    "hist_dead = plt.hist(list_prob_dead, range=(0,1))"
   ]
  },
  {
   "cell_type": "code",
   "execution_count": 158,
   "metadata": {},
   "outputs": [
    {
     "data": {
      "text/plain": [
       "Text(0.5, 1.0, 'Results using XGB')"
      ]
     },
     "execution_count": 158,
     "metadata": {},
     "output_type": "execute_result"
    },
    {
     "data": {
      "image/png": "[encoded data removed]",
      "text/plain": [
       "<Figure size 432x288 with 1 Axes>"
      ]
     },
     "metadata": {
      "needs_background": "light"
     },
     "output_type": "display_data"
    }
   ],
   "source": [
    "plt.hist(list_prob_alive, range=(0,1), alpha=0.8,label='Alive')\n",
    "plt.hist(list_prob_dead, range=(0,1), alpha=0.7, label='Dead')\n",
    "plt.legend(loc='upper right')\n",
    "plt.xlabel('Probability of being alive')\n",
    "plt.ylabel('Events')\n",
    "plt.title('Results using XGB')"
   ]
  },
  {
   "cell_type": "markdown",
   "metadata": {},
   "source": [
    "**ROC Curve**"
   ]
  },
  {
   "cell_type": "code",
   "execution_count": 159,
   "metadata": {},
   "outputs": [
    {
     "data": {
      "image/png": "[encoded data removed]",
      "text/plain": [
       "<Figure size 432x288 with 1 Axes>"
      ]
     },
     "metadata": {
      "needs_background": "light"
     },
     "output_type": "display_data"
    }
   ],
   "source": [
    "#CREEMOS DATOS ALEADORIOS Y ORDENEMOLOS DE MENOR A MAYOR\n",
    "\n",
    "list_prob_alive = sorted(list_prob_alive)\n",
    "list_prob_dead = sorted(list_prob_dead)\n",
    "\n",
    "#LISTAS DONDE SE GUARDARAN LOS VALORES DE EFICIENCIA Y BACK_REJECTION\n",
    "eficiency = []\n",
    "background_rejection = []\n",
    "\n",
    "#ITERAMOS SOBRE UN FLOAT QUE VA DE 0 A 100 EN 1000 PASOS\n",
    "for cut in np.linspace(0,1, 50):\n",
    "    \n",
    "    #INICIALIZAMOS EL VALOR DE VIVOS ACEPTADOS Y MUERTOS RECHAZADOS\n",
    "    #PUES EN EL CORTE = 0 ACEPTAMOS TODOS LOS 1s Y RECHAZAMOS TODOS LOS 0s\n",
    "    vivos_aceptados = len(list_prob_alive)\n",
    "    muertos_rechazados = 0\n",
    "\n",
    "\n",
    "    for i, v in enumerate(list_prob_alive):\n",
    "        # YA QUE LAS LISTAS ESTAN ORDENADAS BASTA CON CHECAR EL PRIMER VALOR QUE \n",
    "        # SEA MAYOR QUE EL CORTE\n",
    "        if cut<=v:\n",
    "            vivos_aceptados-=i\n",
    "            break\n",
    "        #EN EL CASO DE QUE EL CORTE SEA MAYOR QUE TODAS LAS PROBS CONSIDERA QUE \n",
    "        # NINGUN VIVO FUE ACEPTADO\n",
    "        if i==len(list_prob_alive)-1:\n",
    "            vivos_aceptados=0\n",
    "\n",
    "    # ANALOGAMENTE PARA LOS MUERTOS        \n",
    "    for i, m in enumerate(list_prob_dead):\n",
    "        if cut<=m:\n",
    "            muertos_rechazados+=i\n",
    "            break\n",
    "        if i==len(list_prob_dead)-1:\n",
    "            muertos_rechazados=len(list_prob_dead)\n",
    "    \n",
    "    #ALMACENA EN LA LISTA\n",
    "    eficiency.append(vivos_aceptados/len(list_prob_alive))\n",
    "    background_rejection.append(muertos_rechazados/len(list_prob_dead))\n",
    "\n",
    "    neural = plt.plot(eficiency, background_rejection)\n",
    "    plt.xlabel('Signal efficiency')\n",
    "    plt.ylabel('Background rejection')\n",
    "    plt.title('XGB ROC curve')"
   ]
  },
  {
   "cell_type": "code",
   "execution_count": null,
   "metadata": {},
   "outputs": [],
   "source": []
  }
 ],
 "metadata": {
  "kernelspec": {
   "display_name": "xgb",
   "language": "python",
   "name": "xgb"
  },
  "language_info": {
   "codemirror_mode": {
    "name": "ipython",
    "version": 3
   },
   "file_extension": ".py",
   "mimetype": "text/x-python",
   "name": "python",
   "nbconvert_exporter": "python",
   "pygments_lexer": "ipython3",
   "version": "3.8.2"
  }
 },
 "nbformat": 4,
 "nbformat_minor": 4
}
